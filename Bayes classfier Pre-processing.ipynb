{
 "cells": [
  {
   "cell_type": "markdown",
   "id": "de63a33b",
   "metadata": {
    "tags": []
   },
   "source": [
    "# Notebook Imports"
   ]
  },
  {
   "cell_type": "code",
   "execution_count": 1,
   "id": "d3872fcd",
   "metadata": {},
   "outputs": [],
   "source": [
    "from os import walk\n",
    "from os.path import join\n",
    "import pandas as pd\n",
    "import numpy as np\n",
    "import matplotlib.pyplot as plt\n",
    "\n",
    "import nltk\n",
    "from nltk.stem import PorterStemmer\n",
    "from nltk.corpus import stopwords\n",
    "from nltk.tokenize import word_tokenize\n",
    "from bs4 import BeautifulSoup\n",
    "from collections import Counter\n",
    "from wordcloud import WordCloud\n",
    "from PIL import Image\n",
    "\n",
    "from sklearn.model_selection import train_test_split\n",
    "\n",
    "%matplotlib inline"
   ]
  },
  {
   "cell_type": "markdown",
   "id": "62de18a4",
   "metadata": {
    "tags": []
   },
   "source": [
    "# Costants"
   ]
  },
  {
   "cell_type": "code",
   "execution_count": 2,
   "id": "cb49b0a1",
   "metadata": {},
   "outputs": [],
   "source": [
    "EXAMPLE_FILE = 'SpamData/01_Processing/practice_email.txt'\n",
    "\n",
    "SPAM_1_PATH = 'SpamData/01_Processing/spam_assassin_corpus/spam_1'\n",
    "SPAM_2_PATH = 'SpamData/01_Processing/spam_assassin_corpus/spam_2'\n",
    "EASY_SPAM_1_PATH = 'SpamData/01_Processing/spam_assassin_corpus/easy_ham_1'\n",
    "EASY_SPAM_2_PATH = 'SpamData/01_Processing/spam_assassin_corpus/easy_ham_2'\n",
    "\n",
    "SPAM_CAT = 1\n",
    "HAM_CAT = 0\n",
    "VOCAB_NO = 2500\n",
    "\n",
    "DATA_JSON_FILE = 'SpamData/01_Processing/emails-json-data.json'\n",
    "WORD_VOCAB_FILE = 'SpamData/01_Processing/word-by-id.csv'\n",
    "TRAIN_DATA_FILE = 'SpamData/02_Training/train-data.txt'\n",
    "TEST_DATA_FILE = 'SpamData/02_Training/test-data.txt'\n",
    "\n",
    "\n",
    "THUMB_UP_FILE = 'SpamData/01_Processing/wordcloud_resources/thumbs-up.png'\n",
    "THUMB_DOWN_FILE = 'SpamData/01_Processing/wordcloud_resources/thumbs-down.png'\n",
    "FONT_FILE = 'SpamData/01_Processing/wordcloud_resources/OpenSansCondensed-Bold.ttf'"
   ]
  },
  {
   "cell_type": "markdown",
   "id": "2a107636",
   "metadata": {
    "tags": []
   },
   "source": [
    "# Reading File"
   ]
  },
  {
   "cell_type": "code",
   "execution_count": 3,
   "id": "159ea664",
   "metadata": {},
   "outputs": [
    {
     "name": "stdout",
     "output_type": "stream",
     "text": [
      "From exmh-workers-admin@redhat.com  Thu Aug 22 12:36:23 2002\n",
      "Return-Path: <exmh-workers-admin@spamassassin.taint.org>\n",
      "Delivered-To: zzzz@localhost.netnoteinc.com\n",
      "Received: from localhost (localhost [127.0.0.1])\n",
      "\tby phobos.labs.netnoteinc.com (Postfix) with ESMTP id D03E543C36\n",
      "\tfor <zzzz@localhost>; Thu, 22 Aug 2002 07:36:16 -0400 (EDT)\n",
      "Received: from phobos [127.0.0.1]\n",
      "\tby localhost with IMAP (fetchmail-5.9.0)\n",
      "\tfor zzzz@localhost (single-drop); Thu, 22 Aug 2002 12:36:16 +0100 (IST)\n",
      "Received: from listman.spamassassin.taint.org (listman.spamassassin.taint.org [66.187.233.211]) by\n",
      "    dogma.slashnull.org (8.11.6/8.11.6) with ESMTP id g7MBYrZ04811 for\n",
      "    <zzzz-exmh@spamassassin.taint.org>; Thu, 22 Aug 2002 12:34:53 +0100\n",
      "Received: from listman.spamassassin.taint.org (localhost.localdomain [127.0.0.1]) by\n",
      "    listman.redhat.com (Postfix) with ESMTP id 8386540858; Thu, 22 Aug 2002\n",
      "    07:35:02 -0400 (EDT)\n",
      "Delivered-To: exmh-workers@listman.spamassassin.taint.org\n",
      "Received: from int-mx1.corp.spamassassin.taint.org (int-mx1.corp.spamassassin.taint.org\n",
      "    [172.16.52.254]) by listman.redhat.com (Postfix) with ESMTP id 10CF8406D7\n",
      "    for <exmh-workers@listman.redhat.com>; Thu, 22 Aug 2002 07:34:10 -0400\n",
      "    (EDT)\n",
      "Received: (from mail@localhost) by int-mx1.corp.spamassassin.taint.org (8.11.6/8.11.6)\n",
      "    id g7MBY7g11259 for exmh-workers@listman.redhat.com; Thu, 22 Aug 2002\n",
      "    07:34:07 -0400\n",
      "Received: from mx1.spamassassin.taint.org (mx1.spamassassin.taint.org [172.16.48.31]) by\n",
      "    int-mx1.corp.redhat.com (8.11.6/8.11.6) with SMTP id g7MBY7Y11255 for\n",
      "    <exmh-workers@redhat.com>; Thu, 22 Aug 2002 07:34:07 -0400\n",
      "Received: from ratree.psu.ac.th ([202.28.97.6]) by mx1.spamassassin.taint.org\n",
      "    (8.11.6/8.11.6) with SMTP id g7MBIhl25223 for <exmh-workers@redhat.com>;\n",
      "    Thu, 22 Aug 2002 07:18:55 -0400\n",
      "Received: from delta.cs.mu.OZ.AU (delta.coe.psu.ac.th [172.30.0.98]) by\n",
      "    ratree.psu.ac.th (8.11.6/8.11.6) with ESMTP id g7MBWel29762;\n",
      "    Thu, 22 Aug 2002 18:32:40 +0700 (ICT)\n",
      "Received: from munnari.OZ.AU (localhost [127.0.0.1]) by delta.cs.mu.OZ.AU\n",
      "    (8.11.6/8.11.6) with ESMTP id g7MBQPW13260; Thu, 22 Aug 2002 18:26:25\n",
      "    +0700 (ICT)\n",
      "From: Robert Elz <kre@munnari.OZ.AU>\n",
      "To: Chris Garrigues <cwg-dated-1030377287.06fa6d@DeepEddy.Com>\n",
      "Cc: exmh-workers@spamassassin.taint.org\n",
      "Subject: Re: New Sequences Window\n",
      "In-Reply-To: <1029945287.4797.TMDA@deepeddy.vircio.com>\n",
      "References: <1029945287.4797.TMDA@deepeddy.vircio.com>\n",
      "    <1029882468.3116.TMDA@deepeddy.vircio.com> <9627.1029933001@munnari.OZ.AU>\n",
      "    <1029943066.26919.TMDA@deepeddy.vircio.com>\n",
      "    <1029944441.398.TMDA@deepeddy.vircio.com>\n",
      "MIME-Version: 1.0\n",
      "Content-Type: text/plain; charset=us-ascii\n",
      "Message-Id: <13258.1030015585@munnari.OZ.AU>\n",
      "X-Loop: exmh-workers@spamassassin.taint.org\n",
      "Sender: exmh-workers-admin@spamassassin.taint.org\n",
      "Errors-To: exmh-workers-admin@spamassassin.taint.org\n",
      "X-Beenthere: exmh-workers@spamassassin.taint.org\n",
      "X-Mailman-Version: 2.0.1\n",
      "Precedence: bulk\n",
      "List-Help: <mailto:exmh-workers-request@spamassassin.taint.org?subject=help>\n",
      "List-Post: <mailto:exmh-workers@spamassassin.taint.org>\n",
      "List-Subscribe: <https://listman.spamassassin.taint.org/mailman/listinfo/exmh-workers>,\n",
      "    <mailto:exmh-workers-request@redhat.com?subject=subscribe>\n",
      "List-Id: Discussion list for EXMH developers <exmh-workers.spamassassin.taint.org>\n",
      "List-Unsubscribe: <https://listman.spamassassin.taint.org/mailman/listinfo/exmh-workers>,\n",
      "    <mailto:exmh-workers-request@redhat.com?subject=unsubscribe>\n",
      "List-Archive: <https://listman.spamassassin.taint.org/mailman/private/exmh-workers/>\n",
      "Date: Thu, 22 Aug 2002 18:26:25 +0700\n",
      "\n",
      "\n",
      "Dear Mr Still\n",
      "\n",
      "Good tidings to you and all your staff for the festive season ahead (Christmas).\n",
      "Now to the crux of the matter-in-hand: I am a fully qualified Santa Claus and am wondering whether you might consider me to run my own \"Santa's Grotto\" in your store.\n",
      "But WAIT! You're probably thinking: \"What makes him so special?\"\n",
      "Well, first of all, I have made several changes to the characterisation of Father Christmas. Rather than greeting the children with shouts of \"Ho, ho, ho!\" I prefer to whisper the phrase \"Dependence is not unfathomable in this cruel world we live in\". In addition, my gifts are ALL hand-made, ranging from felt hoops to vanilla-pod holders.\n",
      "You will note also, from the enclosed sketch, that I have radically redesigned Santa's outfit and have renamed my character \"Lord Buckles\". Would you be interested in employing me? I promise NEVER to let you down.\n",
      "I look forward to hearing from you.\n",
      "\n",
      "Best wishes\n",
      "Robin Cooper\n",
      "[Excerpt from the book: The Timewaster Letters by Robin Cooper]\n",
      "\n"
     ]
    }
   ],
   "source": [
    "with open(EXAMPLE_FILE, encoding='latin-1') as file:\n",
    "    email = file.read()\n",
    "print(email)"
   ]
  },
  {
   "cell_type": "code",
   "execution_count": 4,
   "id": "95bf04e0",
   "metadata": {},
   "outputs": [
    {
     "data": {
      "text/plain": [
       "'utf-8'"
      ]
     },
     "execution_count": 4,
     "metadata": {},
     "output_type": "execute_result"
    }
   ],
   "source": [
    "# checking the system encoding system\n",
    "import sys\n",
    "sys.getfilesystemencoding()"
   ]
  },
  {
   "cell_type": "code",
   "execution_count": 5,
   "id": "312290cd",
   "metadata": {},
   "outputs": [
    {
     "name": "stdout",
     "output_type": "stream",
     "text": [
      "\n",
      "\n",
      "Dear Mr Still\n",
      "\n",
      "\n",
      "\n",
      "Good tidings to you and all your staff for the festive season ahead (Christmas).\n",
      "\n",
      "Now to the crux of the matter-in-hand: I am a fully qualified Santa Claus and am wondering whether you might consider me to run my own \"Santa's Grotto\" in your store.\n",
      "\n",
      "But WAIT! You're probably thinking: \"What makes him so special?\"\n",
      "\n",
      "Well, first of all, I have made several changes to the characterisation of Father Christmas. Rather than greeting the children with shouts of \"Ho, ho, ho!\" I prefer to whisper the phrase \"Dependence is not unfathomable in this cruel world we live in\". In addition, my gifts are ALL hand-made, ranging from felt hoops to vanilla-pod holders.\n",
      "\n",
      "You will note also, from the enclosed sketch, that I have radically redesigned Santa's outfit and have renamed my character \"Lord Buckles\". Would you be interested in employing me? I promise NEVER to let you down.\n",
      "\n",
      "I look forward to hearing from you.\n",
      "\n",
      "\n",
      "\n",
      "Best wishes\n",
      "\n",
      "Robin Cooper\n",
      "\n",
      "[Excerpt from the book: The Timewaster Letters by Robin Cooper]\n",
      "\n"
     ]
    }
   ],
   "source": [
    "# fetching only the body of email\n",
    "with open(EXAMPLE_FILE, encoding='latin-1') as file:\n",
    "    is_body = False\n",
    "    lines = []\n",
    "    for line in file:\n",
    "        if is_body:\n",
    "            lines.append(line)\n",
    "        elif line == '\\n':\n",
    "            is_body = True\n",
    " \n",
    "email = '\\n'.join(lines)\n",
    "print(email)"
   ]
  },
  {
   "cell_type": "markdown",
   "id": "b38371a0",
   "metadata": {
    "tags": []
   },
   "source": [
    "# Generator functions"
   ]
  },
  {
   "cell_type": "code",
   "execution_count": 6,
   "id": "f30c6eb4",
   "metadata": {},
   "outputs": [],
   "source": [
    "def generate_squares(N):\n",
    "    \"\"\" Generator functions keep the memory of the previouse results \"\"\"\n",
    "    for number in range(N + 1):\n",
    "        yield number ** 2"
   ]
  },
  {
   "cell_type": "code",
   "execution_count": 7,
   "id": "b47e5429",
   "metadata": {},
   "outputs": [
    {
     "data": {
      "text/plain": [
       "<generator object generate_squares at 0x000001DC3FCC77B0>"
      ]
     },
     "execution_count": 7,
     "metadata": {},
     "output_type": "execute_result"
    }
   ],
   "source": [
    "generate_squares(6)"
   ]
  },
  {
   "cell_type": "code",
   "execution_count": 8,
   "id": "f5dc9faa",
   "metadata": {},
   "outputs": [
    {
     "name": "stdout",
     "output_type": "stream",
     "text": [
      "0->1->4->9->16->25->36->"
     ]
    }
   ],
   "source": [
    "for i in generate_squares(6):\n",
    "    print(i, end='->')"
   ]
  },
  {
   "cell_type": "markdown",
   "id": "19f7339f",
   "metadata": {
    "tags": []
   },
   "source": [
    "# Extracting body of all Emails"
   ]
  },
  {
   "cell_type": "code",
   "execution_count": 9,
   "id": "81af7e8a",
   "metadata": {},
   "outputs": [],
   "source": [
    "def email_body_generator(path):\n",
    "    \"\"\" Generator function which walk throug each email and return back the file \n",
    "    name and email body for each email in the file path provided\"\"\"\n",
    "    for root, dirnames, filenames in walk(path):\n",
    "        for file_name in filenames:\n",
    "            filepath = join(root, file_name)\n",
    "            with open(filepath, encoding='latin-1') as file:\n",
    "                is_body = False\n",
    "                lines = []\n",
    "                for line in file:\n",
    "                    if is_body:\n",
    "                        lines.append(line)\n",
    "                    elif line == '\\n':\n",
    "                        is_body = True\n",
    "\n",
    "            email = '\\n'.join(lines)\n",
    "            yield file_name, email"
   ]
  },
  {
   "cell_type": "code",
   "execution_count": 10,
   "id": "4265bb16",
   "metadata": {},
   "outputs": [],
   "source": [
    "def dataframe_from_directory(path, classfication):\n",
    "    \"\"\" Function which return Dataframe of all email bodies with their respective names \"\"\"\n",
    "    row = []\n",
    "    row_names = []\n",
    "    for file_name, email in email_body_generator(path):\n",
    "        row.append({'MESSAGE': email, 'CATEGORY': classfication})\n",
    "        row_names.append(file_name)\n",
    "    return pd.DataFrame(row, index=row_names)"
   ]
  },
  {
   "cell_type": "code",
   "execution_count": 11,
   "id": "e467d388",
   "metadata": {},
   "outputs": [
    {
     "data": {
      "text/html": [
       "<div>\n",
       "<style scoped>\n",
       "    .dataframe tbody tr th:only-of-type {\n",
       "        vertical-align: middle;\n",
       "    }\n",
       "\n",
       "    .dataframe tbody tr th {\n",
       "        vertical-align: top;\n",
       "    }\n",
       "\n",
       "    .dataframe thead th {\n",
       "        text-align: right;\n",
       "    }\n",
       "</style>\n",
       "<table border=\"1\" class=\"dataframe\">\n",
       "  <thead>\n",
       "    <tr style=\"text-align: right;\">\n",
       "      <th></th>\n",
       "      <th>MESSAGE</th>\n",
       "      <th>CATEGORY</th>\n",
       "    </tr>\n",
       "  </thead>\n",
       "  <tbody>\n",
       "    <tr>\n",
       "      <th>00001.7848dde101aa985090474a91ec93fcf0</th>\n",
       "      <td>&lt;!DOCTYPE HTML PUBLIC \"-//W3C//DTD HTML 4.0 Tr...</td>\n",
       "      <td>1</td>\n",
       "    </tr>\n",
       "    <tr>\n",
       "      <th>00002.d94f1b97e48ed3b553b3508d116e6a09</th>\n",
       "      <td>1) Fight The Risk of Cancer!\\n\\nhttp://www.adc...</td>\n",
       "      <td>1</td>\n",
       "    </tr>\n",
       "    <tr>\n",
       "      <th>00003.2ee33bc6eacdb11f38d052c44819ba6c</th>\n",
       "      <td>1) Fight The Risk of Cancer!\\n\\nhttp://www.adc...</td>\n",
       "      <td>1</td>\n",
       "    </tr>\n",
       "    <tr>\n",
       "      <th>00004.eac8de8d759b7e74154f142194282724</th>\n",
       "      <td>##############################################...</td>\n",
       "      <td>1</td>\n",
       "    </tr>\n",
       "    <tr>\n",
       "      <th>00005.57696a39d7d84318ce497886896bf90d</th>\n",
       "      <td>I thought you might like these:\\n\\n1) Slim Dow...</td>\n",
       "      <td>1</td>\n",
       "    </tr>\n",
       "  </tbody>\n",
       "</table>\n",
       "</div>"
      ],
      "text/plain": [
       "                                                                                  MESSAGE  \\\n",
       "00001.7848dde101aa985090474a91ec93fcf0  <!DOCTYPE HTML PUBLIC \"-//W3C//DTD HTML 4.0 Tr...   \n",
       "00002.d94f1b97e48ed3b553b3508d116e6a09  1) Fight The Risk of Cancer!\\n\\nhttp://www.adc...   \n",
       "00003.2ee33bc6eacdb11f38d052c44819ba6c  1) Fight The Risk of Cancer!\\n\\nhttp://www.adc...   \n",
       "00004.eac8de8d759b7e74154f142194282724  ##############################################...   \n",
       "00005.57696a39d7d84318ce497886896bf90d  I thought you might like these:\\n\\n1) Slim Dow...   \n",
       "\n",
       "                                        CATEGORY  \n",
       "00001.7848dde101aa985090474a91ec93fcf0         1  \n",
       "00002.d94f1b97e48ed3b553b3508d116e6a09         1  \n",
       "00003.2ee33bc6eacdb11f38d052c44819ba6c         1  \n",
       "00004.eac8de8d759b7e74154f142194282724         1  \n",
       "00005.57696a39d7d84318ce497886896bf90d         1  "
      ]
     },
     "execution_count": 11,
     "metadata": {},
     "output_type": "execute_result"
    }
   ],
   "source": [
    "# calling the function to craete spam email dataframe\n",
    "spam_emails = pd.concat([dataframe_from_directory(SPAM_1_PATH, SPAM_CAT), dataframe_from_directory(SPAM_2_PATH, SPAM_CAT)])\n",
    "spam_emails.head()"
   ]
  },
  {
   "cell_type": "code",
   "execution_count": 12,
   "id": "aedef37a",
   "metadata": {},
   "outputs": [
    {
     "data": {
      "text/plain": [
       "(1898, 2)"
      ]
     },
     "execution_count": 12,
     "metadata": {},
     "output_type": "execute_result"
    }
   ],
   "source": [
    "spam_emails.shape"
   ]
  },
  {
   "cell_type": "code",
   "execution_count": 13,
   "id": "5f1cbee0",
   "metadata": {},
   "outputs": [
    {
     "data": {
      "text/html": [
       "<div>\n",
       "<style scoped>\n",
       "    .dataframe tbody tr th:only-of-type {\n",
       "        vertical-align: middle;\n",
       "    }\n",
       "\n",
       "    .dataframe tbody tr th {\n",
       "        vertical-align: top;\n",
       "    }\n",
       "\n",
       "    .dataframe thead th {\n",
       "        text-align: right;\n",
       "    }\n",
       "</style>\n",
       "<table border=\"1\" class=\"dataframe\">\n",
       "  <thead>\n",
       "    <tr style=\"text-align: right;\">\n",
       "      <th></th>\n",
       "      <th>MESSAGE</th>\n",
       "      <th>CATEGORY</th>\n",
       "    </tr>\n",
       "  </thead>\n",
       "  <tbody>\n",
       "    <tr>\n",
       "      <th>00001.7c53336b37003a9286aba55d2945844c</th>\n",
       "      <td>Date:        Wed, 21 Aug 2002 10:54:46 -05...</td>\n",
       "      <td>0</td>\n",
       "    </tr>\n",
       "    <tr>\n",
       "      <th>00002.9c4069e25e1ef370c078db7ee85ff9ac</th>\n",
       "      <td>Martin A posted:\\n\\nTassos Papadopoulos, the G...</td>\n",
       "      <td>0</td>\n",
       "    </tr>\n",
       "    <tr>\n",
       "      <th>00003.860e3c3cee1b42ead714c5c874fe25f7</th>\n",
       "      <td>Man Threatens Explosion In Moscow \\n\\n\\n\\nThur...</td>\n",
       "      <td>0</td>\n",
       "    </tr>\n",
       "    <tr>\n",
       "      <th>00004.864220c5b6930b209cc287c361c99af1</th>\n",
       "      <td>Klez: The Virus That Won't Die\\n\\n \\n\\nAlready...</td>\n",
       "      <td>0</td>\n",
       "    </tr>\n",
       "    <tr>\n",
       "      <th>00005.bf27cdeaf0b8c4647ecd61b1d09da613</th>\n",
       "      <td>&gt;  in adding cream to spaghetti carbonara, whi...</td>\n",
       "      <td>0</td>\n",
       "    </tr>\n",
       "  </tbody>\n",
       "</table>\n",
       "</div>"
      ],
      "text/plain": [
       "                                                                                  MESSAGE  \\\n",
       "00001.7c53336b37003a9286aba55d2945844c      Date:        Wed, 21 Aug 2002 10:54:46 -05...   \n",
       "00002.9c4069e25e1ef370c078db7ee85ff9ac  Martin A posted:\\n\\nTassos Papadopoulos, the G...   \n",
       "00003.860e3c3cee1b42ead714c5c874fe25f7  Man Threatens Explosion In Moscow \\n\\n\\n\\nThur...   \n",
       "00004.864220c5b6930b209cc287c361c99af1  Klez: The Virus That Won't Die\\n\\n \\n\\nAlready...   \n",
       "00005.bf27cdeaf0b8c4647ecd61b1d09da613  >  in adding cream to spaghetti carbonara, whi...   \n",
       "\n",
       "                                        CATEGORY  \n",
       "00001.7c53336b37003a9286aba55d2945844c         0  \n",
       "00002.9c4069e25e1ef370c078db7ee85ff9ac         0  \n",
       "00003.860e3c3cee1b42ead714c5c874fe25f7         0  \n",
       "00004.864220c5b6930b209cc287c361c99af1         0  \n",
       "00005.bf27cdeaf0b8c4647ecd61b1d09da613         0  "
      ]
     },
     "execution_count": 13,
     "metadata": {},
     "output_type": "execute_result"
    }
   ],
   "source": [
    "# calling the function to craete non-spam email dataframe\n",
    "non_spam_emails = pd.concat([dataframe_from_directory(EASY_SPAM_1_PATH, HAM_CAT), dataframe_from_directory(EASY_SPAM_2_PATH, HAM_CAT)])\n",
    "non_spam_emails.head()"
   ]
  },
  {
   "cell_type": "code",
   "execution_count": 14,
   "id": "cf5c586f",
   "metadata": {},
   "outputs": [
    {
     "data": {
      "text/plain": [
       "(3901, 2)"
      ]
     },
     "execution_count": 14,
     "metadata": {},
     "output_type": "execute_result"
    }
   ],
   "source": [
    "non_spam_emails.shape"
   ]
  },
  {
   "cell_type": "code",
   "execution_count": 15,
   "id": "fbd08f26",
   "metadata": {},
   "outputs": [],
   "source": [
    "dataset = pd.concat([spam_emails, non_spam_emails]) # Joining all emails to have a single dataset"
   ]
  },
  {
   "cell_type": "code",
   "execution_count": 16,
   "id": "0ef2b865",
   "metadata": {},
   "outputs": [
    {
     "data": {
      "text/plain": [
       "(5799, 2)"
      ]
     },
     "execution_count": 16,
     "metadata": {},
     "output_type": "execute_result"
    }
   ],
   "source": [
    "dataset.shape"
   ]
  },
  {
   "cell_type": "markdown",
   "id": "d19c6fc4",
   "metadata": {
    "tags": []
   },
   "source": [
    "# Data Cleaning: Checking for missing (null or empty) values"
   ]
  },
  {
   "cell_type": "markdown",
   "id": "866817b3-4545-4566-bbfd-9e7685fa89ac",
   "metadata": {},
   "source": [
    "## Removing null emails"
   ]
  },
  {
   "cell_type": "code",
   "execution_count": 17,
   "id": "beffb0a2",
   "metadata": {},
   "outputs": [
    {
     "data": {
      "text/plain": [
       "False"
      ]
     },
     "execution_count": 17,
     "metadata": {},
     "output_type": "execute_result"
    }
   ],
   "source": [
    "# checking if there is null email\n",
    "dataset.MESSAGE.isnull().values.any()"
   ]
  },
  {
   "cell_type": "code",
   "execution_count": 18,
   "id": "1cda9579",
   "metadata": {},
   "outputs": [
    {
     "name": "stdout",
     "output_type": "stream",
     "text": [
      "True\n"
     ]
    },
    {
     "data": {
      "text/plain": [
       "3"
      ]
     },
     "execution_count": 18,
     "metadata": {},
     "output_type": "execute_result"
    }
   ],
   "source": [
    "# checking if there is empty email\n",
    "empty = dataset.MESSAGE.str.len() == 0\n",
    "print(empty.any()) # check if empty email exist\n",
    "empty.sum() # return total number of empty emails"
   ]
  },
  {
   "cell_type": "code",
   "execution_count": 19,
   "id": "d3836399",
   "metadata": {},
   "outputs": [],
   "source": [
    "# function to check number of entries with null or empty values\n",
    "def check_for_null_empty_emails(data):\n",
    "    null_emails = data.MESSAGE.isnull().values.sum()\n",
    "    empty_emails = (data.MESSAGE.str.len() == 0).sum()\n",
    "    return f'{null_emails} Null Emails : {empty_emails} Empty Emails'"
   ]
  },
  {
   "cell_type": "code",
   "execution_count": 20,
   "id": "82abf4aa",
   "metadata": {},
   "outputs": [
    {
     "data": {
      "text/plain": [
       "'0 Null Emails : 3 Empty Emails'"
      ]
     },
     "execution_count": 20,
     "metadata": {},
     "output_type": "execute_result"
    }
   ],
   "source": [
    "# calling the function to check empty and null emails\n",
    "check_for_null_empty_emails(data=dataset)"
   ]
  },
  {
   "cell_type": "code",
   "execution_count": 21,
   "id": "883e16f2",
   "metadata": {},
   "outputs": [
    {
     "data": {
      "text/plain": [
       "Index(['cmds', 'cmds', 'cmds'], dtype='object')"
      ]
     },
     "execution_count": 21,
     "metadata": {},
     "output_type": "execute_result"
    }
   ],
   "source": [
    "# locate the emmpty emails\n",
    "dataset[empty].index"
   ]
  },
  {
   "cell_type": "code",
   "execution_count": 22,
   "id": "364ae2ba",
   "metadata": {},
   "outputs": [
    {
     "data": {
      "text/plain": [
       "array([False, False, False, ..., False, False, False])"
      ]
     },
     "execution_count": 22,
     "metadata": {},
     "output_type": "execute_result"
    }
   ],
   "source": [
    "dataset.index.get_loc('cmds')"
   ]
  },
  {
   "cell_type": "markdown",
   "id": "3d9d6535",
   "metadata": {},
   "source": [
    "## Removing all empty emails"
   ]
  },
  {
   "cell_type": "code",
   "execution_count": 23,
   "id": "02a242a9",
   "metadata": {},
   "outputs": [],
   "source": [
    "dataset.drop(['cmds',], inplace=True)"
   ]
  },
  {
   "cell_type": "code",
   "execution_count": 24,
   "id": "7576616f",
   "metadata": {},
   "outputs": [
    {
     "data": {
      "text/plain": [
       "'0 Null Emails : 0 Empty Emails'"
      ]
     },
     "execution_count": 24,
     "metadata": {},
     "output_type": "execute_result"
    }
   ],
   "source": [
    "# calling the function to check empty emails\n",
    "check_for_null_empty_emails(data=dataset)"
   ]
  },
  {
   "cell_type": "code",
   "execution_count": 25,
   "id": "5aadc0d4",
   "metadata": {},
   "outputs": [
    {
     "data": {
      "text/plain": [
       "(5796, 2)"
      ]
     },
     "execution_count": 25,
     "metadata": {},
     "output_type": "execute_result"
    }
   ],
   "source": [
    "dataset.shape"
   ]
  },
  {
   "cell_type": "markdown",
   "id": "cff73350",
   "metadata": {
    "tags": []
   },
   "source": [
    "# Add Document IDs to track Emails in Dataframe"
   ]
  },
  {
   "cell_type": "code",
   "execution_count": 26,
   "id": "c89c978f",
   "metadata": {},
   "outputs": [
    {
     "data": {
      "text/plain": [
       "range(0, 5796)"
      ]
     },
     "execution_count": 26,
     "metadata": {},
     "output_type": "execute_result"
    }
   ],
   "source": [
    "document_ids = range(0, len(dataset.index))\n",
    "document_ids"
   ]
  },
  {
   "cell_type": "code",
   "execution_count": 27,
   "id": "ce00278d",
   "metadata": {},
   "outputs": [],
   "source": [
    "dataset['DOC_ID'] = document_ids\n",
    "dataset['FILE_NAME'] = dataset.index\n",
    "dataset.set_index('DOC_ID', inplace=True)"
   ]
  },
  {
   "cell_type": "code",
   "execution_count": 28,
   "id": "8e12c0bd",
   "metadata": {},
   "outputs": [
    {
     "data": {
      "text/html": [
       "<div>\n",
       "<style scoped>\n",
       "    .dataframe tbody tr th:only-of-type {\n",
       "        vertical-align: middle;\n",
       "    }\n",
       "\n",
       "    .dataframe tbody tr th {\n",
       "        vertical-align: top;\n",
       "    }\n",
       "\n",
       "    .dataframe thead th {\n",
       "        text-align: right;\n",
       "    }\n",
       "</style>\n",
       "<table border=\"1\" class=\"dataframe\">\n",
       "  <thead>\n",
       "    <tr style=\"text-align: right;\">\n",
       "      <th></th>\n",
       "      <th>MESSAGE</th>\n",
       "      <th>CATEGORY</th>\n",
       "      <th>FILE_NAME</th>\n",
       "    </tr>\n",
       "    <tr>\n",
       "      <th>DOC_ID</th>\n",
       "      <th></th>\n",
       "      <th></th>\n",
       "      <th></th>\n",
       "    </tr>\n",
       "  </thead>\n",
       "  <tbody>\n",
       "    <tr>\n",
       "      <th>0</th>\n",
       "      <td>&lt;!DOCTYPE HTML PUBLIC \"-//W3C//DTD HTML 4.0 Tr...</td>\n",
       "      <td>1</td>\n",
       "      <td>00001.7848dde101aa985090474a91ec93fcf0</td>\n",
       "    </tr>\n",
       "    <tr>\n",
       "      <th>1</th>\n",
       "      <td>1) Fight The Risk of Cancer!\\n\\nhttp://www.adc...</td>\n",
       "      <td>1</td>\n",
       "      <td>00002.d94f1b97e48ed3b553b3508d116e6a09</td>\n",
       "    </tr>\n",
       "    <tr>\n",
       "      <th>2</th>\n",
       "      <td>1) Fight The Risk of Cancer!\\n\\nhttp://www.adc...</td>\n",
       "      <td>1</td>\n",
       "      <td>00003.2ee33bc6eacdb11f38d052c44819ba6c</td>\n",
       "    </tr>\n",
       "    <tr>\n",
       "      <th>3</th>\n",
       "      <td>##############################################...</td>\n",
       "      <td>1</td>\n",
       "      <td>00004.eac8de8d759b7e74154f142194282724</td>\n",
       "    </tr>\n",
       "    <tr>\n",
       "      <th>4</th>\n",
       "      <td>I thought you might like these:\\n\\n1) Slim Dow...</td>\n",
       "      <td>1</td>\n",
       "      <td>00005.57696a39d7d84318ce497886896bf90d</td>\n",
       "    </tr>\n",
       "    <tr>\n",
       "      <th>...</th>\n",
       "      <td>...</td>\n",
       "      <td>...</td>\n",
       "      <td>...</td>\n",
       "    </tr>\n",
       "    <tr>\n",
       "      <th>5791</th>\n",
       "      <td>http://news.bbc.co.uk/1/hi/england/2515127.stm...</td>\n",
       "      <td>0</td>\n",
       "      <td>01396.61983fbe6ec43f55fd44e30fce24ffa6</td>\n",
       "    </tr>\n",
       "    <tr>\n",
       "      <th>5792</th>\n",
       "      <td>&gt; &gt;-- be careful when using this one.) Also, t...</td>\n",
       "      <td>0</td>\n",
       "      <td>01397.9f9ef4c2a8dc012d80f2ce2d3473d3b7</td>\n",
       "    </tr>\n",
       "    <tr>\n",
       "      <th>5793</th>\n",
       "      <td>&gt;&gt;&gt;&gt;&gt; \"SM\" == Skip Montanaro &lt;skip@pobox.com&gt; ...</td>\n",
       "      <td>0</td>\n",
       "      <td>01398.169b51731fe569f42169ae8f948ec676</td>\n",
       "    </tr>\n",
       "    <tr>\n",
       "      <th>5794</th>\n",
       "      <td>So then, \"Mark Hammond\" &lt;mhammond@skippinet.co...</td>\n",
       "      <td>0</td>\n",
       "      <td>01399.ca6b00b7b341bbde9a9ea3dd6a7bf896</td>\n",
       "    </tr>\n",
       "    <tr>\n",
       "      <th>5795</th>\n",
       "      <td>Hi there,\\n\\n\\n\\nNow this is probably of no us...</td>\n",
       "      <td>0</td>\n",
       "      <td>01400.f897f0931e461e7b2e964d28e927c35e</td>\n",
       "    </tr>\n",
       "  </tbody>\n",
       "</table>\n",
       "<p>5796 rows × 3 columns</p>\n",
       "</div>"
      ],
      "text/plain": [
       "                                                  MESSAGE  CATEGORY  \\\n",
       "DOC_ID                                                                \n",
       "0       <!DOCTYPE HTML PUBLIC \"-//W3C//DTD HTML 4.0 Tr...         1   \n",
       "1       1) Fight The Risk of Cancer!\\n\\nhttp://www.adc...         1   \n",
       "2       1) Fight The Risk of Cancer!\\n\\nhttp://www.adc...         1   \n",
       "3       ##############################################...         1   \n",
       "4       I thought you might like these:\\n\\n1) Slim Dow...         1   \n",
       "...                                                   ...       ...   \n",
       "5791    http://news.bbc.co.uk/1/hi/england/2515127.stm...         0   \n",
       "5792    > >-- be careful when using this one.) Also, t...         0   \n",
       "5793    >>>>> \"SM\" == Skip Montanaro <skip@pobox.com> ...         0   \n",
       "5794    So then, \"Mark Hammond\" <mhammond@skippinet.co...         0   \n",
       "5795    Hi there,\\n\\n\\n\\nNow this is probably of no us...         0   \n",
       "\n",
       "                                     FILE_NAME  \n",
       "DOC_ID                                          \n",
       "0       00001.7848dde101aa985090474a91ec93fcf0  \n",
       "1       00002.d94f1b97e48ed3b553b3508d116e6a09  \n",
       "2       00003.2ee33bc6eacdb11f38d052c44819ba6c  \n",
       "3       00004.eac8de8d759b7e74154f142194282724  \n",
       "4       00005.57696a39d7d84318ce497886896bf90d  \n",
       "...                                        ...  \n",
       "5791    01396.61983fbe6ec43f55fd44e30fce24ffa6  \n",
       "5792    01397.9f9ef4c2a8dc012d80f2ce2d3473d3b7  \n",
       "5793    01398.169b51731fe569f42169ae8f948ec676  \n",
       "5794    01399.ca6b00b7b341bbde9a9ea3dd6a7bf896  \n",
       "5795    01400.f897f0931e461e7b2e964d28e927c35e  \n",
       "\n",
       "[5796 rows x 3 columns]"
      ]
     },
     "execution_count": 28,
     "metadata": {},
     "output_type": "execute_result"
    }
   ],
   "source": [
    "dataset"
   ]
  },
  {
   "cell_type": "markdown",
   "id": "39c0834c",
   "metadata": {
    "tags": []
   },
   "source": [
    "# Save the cleaned dataset"
   ]
  },
  {
   "cell_type": "code",
   "execution_count": 29,
   "id": "700839da",
   "metadata": {},
   "outputs": [],
   "source": [
    "dataset.to_json(DATA_JSON_FILE)"
   ]
  },
  {
   "cell_type": "markdown",
   "id": "01cbc925",
   "metadata": {
    "tags": []
   },
   "source": [
    "# Data Visualization"
   ]
  },
  {
   "cell_type": "markdown",
   "id": "95da6d89",
   "metadata": {},
   "source": [
    "## Spam Vs Non-spam emails (pie chart)"
   ]
  },
  {
   "cell_type": "code",
   "execution_count": 30,
   "id": "a8f6775b",
   "metadata": {},
   "outputs": [
    {
     "data": {
      "text/plain": [
       "0    3900\n",
       "1    1896\n",
       "Name: CATEGORY, dtype: int64"
      ]
     },
     "execution_count": 30,
     "metadata": {},
     "output_type": "execute_result"
    }
   ],
   "source": [
    "dataset.CATEGORY.value_counts()"
   ]
  },
  {
   "cell_type": "code",
   "execution_count": 31,
   "id": "fb5b3315",
   "metadata": {},
   "outputs": [],
   "source": [
    "amount_of_spam_emails = dataset.CATEGORY.value_counts()[1]\n",
    "amount_of_non_spam_emails = dataset.CATEGORY.value_counts()[0]"
   ]
  },
  {
   "cell_type": "code",
   "execution_count": 32,
   "id": "735a43b7",
   "metadata": {},
   "outputs": [
    {
     "data": {
      "image/png": "[encoded data removed]",
      "text/plain": [
       "<Figure size 454x454 with 1 Axes>"
      ]
     },
     "metadata": {},
     "output_type": "display_data"
    }
   ],
   "source": [
    "category_names = ['spam', 'non-spam']\n",
    "sizes = [amount_of_spam_emails, amount_of_non_spam_emails]\n",
    "\n",
    "plt.figure(figsize=[2, 2], dpi=227)\n",
    "plt.pie(sizes, labels=category_names, startangle=90, autopct='%1.2f%%', textprops={'fontsize': 8,},\n",
    "       colors=['#ff7675', '#74b9ff'], explode=[0, 0.1])\n",
    "plt.show()"
   ]
  },
  {
   "cell_type": "code",
   "execution_count": 33,
   "id": "53ffcf50",
   "metadata": {},
   "outputs": [
    {
     "data": {
      "image/png": "[encoded data removed]",
      "text/plain": [
       "<Figure size 454x454 with 1 Axes>"
      ]
     },
     "metadata": {},
     "output_type": "display_data"
    }
   ],
   "source": [
    "category_names = ['spam', 'non-spam']\n",
    "sizes = [amount_of_spam_emails, amount_of_non_spam_emails]\n",
    "\n",
    "plt.figure(figsize=[2, 2], dpi=227)\n",
    "plt.pie(sizes, labels=category_names, startangle=90, autopct='%1.2f%%', textprops={'fontsize': 6,},\n",
    "       colors=['#ff7675', '#74b9ff'], explode=[0, 0.1], pctdistance=0.65)\n",
    "\n",
    "# Creating a dona chart\n",
    "# Add a circle athe center of the pie chart\n",
    "circle = plt.Circle((0,0), radius=0.35, fc='white')\n",
    "plt.gca().add_artist(circle)\n",
    "\n",
    "plt.show()"
   ]
  },
  {
   "cell_type": "markdown",
   "id": "32e9a9a1",
   "metadata": {
    "tags": []
   },
   "source": [
    "# Natual Language Processing\n",
    "## Text Pre-processing"
   ]
  },
  {
   "cell_type": "code",
   "execution_count": 34,
   "id": "76cce1c5",
   "metadata": {},
   "outputs": [
    {
     "name": "stderr",
     "output_type": "stream",
     "text": [
      "[nltk_data] Error loading punkt: <urlopen error [Errno 11001]\n",
      "[nltk_data]     getaddrinfo failed>\n",
      "[nltk_data] Error loading stopwords: <urlopen error [Errno 11001]\n",
      "[nltk_data]     getaddrinfo failed>\n"
     ]
    },
    {
     "data": {
      "text/plain": [
       "False"
      ]
     },
     "execution_count": 34,
     "metadata": {},
     "output_type": "execute_result"
    }
   ],
   "source": [
    "nltk.download('punkt')\n",
    "nltk.download('stopwords')"
   ]
  },
  {
   "cell_type": "markdown",
   "id": "4e26a330",
   "metadata": {},
   "source": [
    "### Tokenising"
   ]
  },
  {
   "cell_type": "code",
   "execution_count": 35,
   "id": "9695d37e",
   "metadata": {},
   "outputs": [
    {
     "data": {
      "text/plain": [
       "['all',\n",
       " 'work',\n",
       " 'and',\n",
       " 'no',\n",
       " 'play',\n",
       " 'makes',\n",
       " 'jack',\n",
       " 'a',\n",
       " 'dull',\n",
       " 'boy',\n",
       " '.',\n",
       " 'no',\n",
       " 'one',\n",
       " 'like',\n",
       " 'him',\n",
       " '!',\n",
       " '.']"
      ]
     },
     "execution_count": 35,
     "metadata": {},
     "output_type": "execute_result"
    }
   ],
   "source": [
    "msg = 'All work and no play makes Jack a dull boy. No one like him!.'\n",
    "word_tokenize(msg.lower())"
   ]
  },
  {
   "cell_type": "markdown",
   "id": "ac496851-a354-43cc-a2c8-c5dbb8b16277",
   "metadata": {},
   "source": [
    "### Removing StopWords"
   ]
  },
  {
   "cell_type": "code",
   "execution_count": 36,
   "id": "dec90476-dad0-473d-9653-ffe24ad8fdb8",
   "metadata": {},
   "outputs": [
    {
     "data": {
      "text/plain": [
       "['work', 'play', 'makes', 'jack', 'dull', 'boy', '.', 'one', 'like', '!', '.']"
      ]
     },
     "execution_count": 36,
     "metadata": {},
     "output_type": "execute_result"
    }
   ],
   "source": [
    "stop_words = set(stopwords.words('english'))  # set is convinient more than list\n",
    "filtered_words = [word for word in word_tokenize(msg.lower()) if word not in stop_words]\n",
    "filtered_words"
   ]
  },
  {
   "cell_type": "markdown",
   "id": "6bd723cc-b68f-491e-976b-34f03b2fb107",
   "metadata": {},
   "source": [
    "### Word Stems and Stemming"
   ]
  },
  {
   "cell_type": "code",
   "execution_count": 37,
   "id": "6d814815-45a3-4295-8b34-d26e463a9c5e",
   "metadata": {},
   "outputs": [
    {
     "data": {
      "text/plain": [
       "['work', 'play', 'make', 'jack', 'dull', 'boy', '.', 'one', 'like', '!', '.']"
      ]
     },
     "execution_count": 37,
     "metadata": {},
     "output_type": "execute_result"
    }
   ],
   "source": [
    "stemmer = PorterStemmer()\n",
    "stemmed_words = [stemmer.stem(word) for word in word_tokenize(msg.lower()) if word not in stop_words]\n",
    "stemmed_words"
   ]
  },
  {
   "cell_type": "markdown",
   "id": "bd1072c0-4858-463f-8349-925a47157211",
   "metadata": {},
   "source": [
    "### Removing Punctuations"
   ]
  },
  {
   "cell_type": "code",
   "execution_count": 38,
   "id": "e1d6be13-a00c-404e-8f89-9dfcdc973123",
   "metadata": {},
   "outputs": [
    {
     "data": {
      "text/plain": [
       "['work', 'play', 'make', 'jack', 'dull', 'boy', 'one', 'like']"
      ]
     },
     "execution_count": 38,
     "metadata": {},
     "output_type": "execute_result"
    }
   ],
   "source": [
    "stemmer = PorterStemmer()\n",
    "stemmed_words = [stemmer.stem(word) for word in word_tokenize(msg.lower()) if (word not in stop_words and word.isalpha())]\n",
    "stemmed_words"
   ]
  },
  {
   "cell_type": "markdown",
   "id": "198050dd-d077-4c1b-a280-a4217efc8eb7",
   "metadata": {},
   "source": [
    "### Removing HTML tags"
   ]
  },
  {
   "cell_type": "code",
   "execution_count": 39,
   "id": "e04c3ade-80df-4cc3-9d71-dbb88b304f2e",
   "metadata": {},
   "outputs": [
    {
     "name": "stdout",
     "output_type": "stream",
     "text": [
      "<!DOCTYPE HTML PUBLIC \"-//W3C//DTD HTML 4.0 Transitional//EN\">\n",
      "<html>\n",
      " <head>\n",
      "  <meta charset=\"utf-8\" content='3D\"text/html;' http-equiv=\"3DContent-T=\" ype=\"\"/>\n",
      "  <meta content='3D\"MSHTML' name=\"3DGENERATOR\"/>\n",
      " </head>\n",
      " <body>\n",
      "  <!-- Inserted by Calypso -->\n",
      "  <table black=\"\" border=\"3D0\" cellpadding=\"3D0\" cellspacing=\"3D2\" display:=\"\" id=\"3D_CalyPrintHeader_\" none=\"\" r=\"ules=3Dnone\" style='3D\"COLOR:' width='3D\"100%\"'>\n",
      "   <tbody>\n",
      "    <tr>\n",
      "     <td colspan=\"3D3\">\n",
      "      <hr color=\"3Dblack\" noshade=\"\" size=\"3D1\"/>\n",
      "     </td>\n",
      "    </tr>\n",
      "    <tr>\n",
      "     <td colspan=\"3D3\">\n",
      "      <hr color=\"3Dblack\" noshade=\"\" size=\"3D1\"/>\n",
      "     </td>\n",
      "    </tr>\n",
      "   </tbody>\n",
      "  </table>\n",
      "  <!-- End Calypso -->\n",
      "  <!-- Inserted by Calypso=\n",
      "\n",
      " -->\n",
      "  <font color=\"3D#000000\" face=\"3DVERDANA,ARIAL,HELVETICA\" size=\"3D-2\">\n",
      "   <br/>\n",
      "  </font>\n",
      "  &lt;=\n",
      "\n",
      "/TR&gt;\n",
      "  <!-- End Calypso -->\n",
      "  <font bold=\"\" color=\"3D#ff0000\" face='3D\"Copperplate' gothic=\"\" ptsize='3D\"10\"' size=\"3D5\">\n",
      "  </font>\n",
      "  <center>\n",
      "   Save up to 70% on Life Insurance.\n",
      "  </center>\n",
      "  <font bold=\"\" color=\"3D#ff=\" face='3D\"Copperplate' gothic=\"\" ptsize='3D\"10\"' size=\"3D5\">\n",
      "  </font>\n",
      "  <center>\n",
      "   Why Spend More Than You Have To?\n",
      "   <center>\n",
      "    <font bold=\"\" color=\"3D#ff0000\" face='3D\"Copperplate' gothic=\"\" pt='SIZE=3D\"10\"' size=\"3D5\">\n",
      "    </font>\n",
      "    <center>\n",
      "     Life Quote Savings\n",
      "     <center>\n",
      "      <p align=\"3Dleft\">\n",
      "      </p>\n",
      "      <p align=\"3Dleft\">\n",
      "      </p>\n",
      "      <br/>\n",
      "      <p>\n",
      "      </p>\n",
      "      <center>\n",
      "       <table border=\"3D0\" bordercolor=\"3D#111111\" cellpadding=\"3D0\" cellspacing=\"3D0\" wi=\"dth=3D650\">\n",
      "        <tbody>\n",
      "        </tbody>\n",
      "       </table>\n",
      "       <table border=\"3D0\" bordercolor=\"3D#111111\" cellpadding=\"3D5\" cellspacing=\"3D0\" wi=\"dth=3D650\">\n",
      "        <tbody>\n",
      "         <tr>\n",
      "          <td colspan=\"3D2\" width='3D\"35%\"'>\n",
      "           <b>\n",
      "            <font face=\"3DVerdana\" size=\"3D4\">\n",
      "             Ensurin=\n",
      "\n",
      "g your \n",
      "\n",
      "      family's financial security is very important. Life Quote Savings ma=\n",
      "\n",
      "kes \n",
      "\n",
      "      buying life insurance simple and affordable. We Provide FREE Access =\n",
      "\n",
      "to The \n",
      "\n",
      "      Very Best Companies and The Lowest Rates.\n",
      "            </font>\n",
      "           </b>\n",
      "          </td>\n",
      "         </tr>\n",
      "         <tr>\n",
      "          <td align=\"3Dmiddle\" valign=\"3Dtop\" width='3D\"18%\"'>\n",
      "           <table bordercolor=\"3D#111111\" width='3D\"100%\"'>\n",
      "            <tbody>\n",
      "             <tr>\n",
      "              <td padding-right:=\"\" style='3D\"PADDING-LEFT:' width='3D\"100='>\n",
      "               <font face=\"3DVerdana\" size=\"3D4\">\n",
      "                <b>\n",
      "                 Life Quote Savings\n",
      "                </b>\n",
      "                is FAST, EAS=\n",
      "\n",
      "Y and \n",
      "\n",
      "            SAVES you money! Let us help you get started with the best val=\n",
      "\n",
      "ues in \n",
      "\n",
      "            the country on new coverage. You can SAVE hundreds or even tho=\n",
      "\n",
      "usands \n",
      "\n",
      "            of dollars by requesting a FREE quote from Lifequote Savings. =\n",
      "\n",
      "Our \n",
      "\n",
      "            service will take you less than 5 minutes to complete. Shop an=\n",
      "\n",
      "d \n",
      "\n",
      "            compare. SAVE up to 70% on all types of Life insurance!\n",
      "               </font>\n",
      "              </td>\n",
      "             </tr>\n",
      "             <tr>\n",
      "              <br/>\n",
      "              <br/>\n",
      "              <td height=\"3D50\" padding-right:=\"\" style='3D\"PADDING-LEFT:' width='3D\"100%\"'>\n",
      "               <p align=\"3Dcenter\">\n",
      "                <b>\n",
      "                 <font face=\"3DVerdana\" size=\"3D5\">\n",
      "                  <a href='3D\"http://website.e365.cc/savequote/\"'>\n",
      "                   Click Here For Your=\n",
      "\n",
      " \n",
      "\n",
      "            Free Quote!\n",
      "                  </a>\n",
      "                 </font>\n",
      "                </b>\n",
      "               </p>\n",
      "              </td>\n",
      "              <p>\n",
      "               <font face=\"3DVerdana\" size=\"3D4\">\n",
      "                <strong>\n",
      "                 <center>\n",
      "                  Protecting your family is the best investment you'll eve=\n",
      "\n",
      "r \n",
      "\n",
      "          make!\n",
      "                  <br/>\n",
      "                 </center>\n",
      "                </strong>\n",
      "               </font>\n",
      "              </p>\n",
      "             </tr>\n",
      "             <tr>\n",
      "              <br/>\n",
      "              <br/>\n",
      "             </tr>\n",
      "             <tr>\n",
      "             </tr>\n",
      "            </tbody>\n",
      "           </table>\n",
      "           <p align=\"3Dleft\">\n",
      "            <font face='3D\"Arial,' helvetica=\"\" sans-serif=\"\" size=\"3D2=\">\n",
      "            </font>\n",
      "           </p>\n",
      "           <p>\n",
      "           </p>\n",
      "           <center>\n",
      "            <br/>\n",
      "            <br/>\n",
      "            <br/>\n",
      "            <p>\n",
      "            </p>\n",
      "            <p align=\"3Dleft\">\n",
      "             <br/>\n",
      "             <br/>\n",
      "             <br/>\n",
      "             <br/>\n",
      "             <br/>\n",
      "            </p>\n",
      "            <p align=\"3Dcenter\">\n",
      "             <br/>\n",
      "            </p>\n",
      "            <p align=\"3Dleft\">\n",
      "             <br/>\n",
      "             <br/>\n",
      "             <br/>\n",
      "             If you are in receipt of this=\n",
      "\n",
      " email \n",
      "\n",
      "      in error and/or wish to be removed from our list,\n",
      "             <a href='3D\"mailto:coins@btamail.net.cn\"'>\n",
      "              PLEASE CLICK HERE\n",
      "             </a>\n",
      "             AND TYPE =\n",
      "\n",
      "REMOVE. If you \n",
      "\n",
      "      reside in any state which prohibits e-mail solicitations for insuran=\n",
      "\n",
      "ce, \n",
      "\n",
      "      please disregard this \n",
      "\n",
      "      email.\n",
      "             <br/>\n",
      "             <br/>\n",
      "             <br/>\n",
      "             <br/>\n",
      "             <br/>\n",
      "             <br/>\n",
      "             <br/>\n",
      "             <br/>\n",
      "             <br/>\n",
      "             <br/>\n",
      "             <br/>\n",
      "             <br/>\n",
      "             <br/>\n",
      "             <br/>\n",
      "             <br/>\n",
      "             <br/>\n",
      "             <br/>\n",
      "            </p>\n",
      "           </center>\n",
      "          </td>\n",
      "         </tr>\n",
      "        </tbody>\n",
      "       </table>\n",
      "      </center>\n",
      "      =\n",
      "\n",
      "CENTER&gt;\n",
      "     </center>\n",
      "    </center>\n",
      "   </center>\n",
      "  </center>\n",
      " </body>\n",
      "</html>\n",
      "\n"
     ]
    }
   ],
   "source": [
    "soup = BeautifulSoup(dataset.at[0, 'MESSAGE'])\n",
    "print(soup.prettify())"
   ]
  },
  {
   "cell_type": "code",
   "execution_count": 40,
   "id": "4d973b94-be73-4efb-b864-e2051ce87bc8",
   "metadata": {},
   "outputs": [
    {
     "data": {
      "text/plain": [
       "\"\\n\\n\\n\\n\\n\\n\\n\\n\\n\\n\\n\\n\\n<=\\n\\n/TR>\\nSave up to 70% on Life Insurance.\\nWhy Spend More Than You Have To?\\n\\n\\nLife Quote Savings\\n\\n\\n\\n\\n\\n\\n\\n\\n\\n\\n\\nEnsurin=\\n\\ng your \\n\\n      family's financial security is very important. Life Quote Savings ma=\\n\\nkes \\n\\n      buying life insurance simple and affordable. We Provide FREE Access =\\n\\nto The \\n\\n      Very Best Companies and The Lowest Rates.\\n\\n\\n\\n\\n\\nLife Quote Savings is FAST, EAS=\\n\\nY and \\n\\n            SAVES you money! Let us help you get started with the best val=\\n\\nues in \\n\\n            the country on new coverage. You can SAVE hundreds or even tho=\\n\\nusands \\n\\n            of dollars by requesting a FREE quote from Lifequote Savings. =\\n\\nOur \\n\\n            service will take you less than 5 minutes to complete. Shop an=\\n\\nd \\n\\n            compare. SAVE up to 70% on all types of Life insurance! \\n\\n\\n\\n\\nClick Here For Your=\\n\\n \\n\\n            Free Quote!\\n\\nProtecting your family is the best investment you'll eve=\\n\\nr \\n\\n          make!\\n\\n\\n\\n\\n\\n\\n\\n\\nIf you are in receipt of this=\\n\\n email \\n\\n      in error and/or wish to be removed from our list, PLEASE CLICK HERE AND TYPE =\\n\\nREMOVE. If you \\n\\n      reside in any state which prohibits e-mail solicitations for insuran=\\n\\nce, \\n\\n      please disregard this \\n\\n      email.=\\n\\nCENTER>\\n\""
      ]
     },
     "execution_count": 40,
     "metadata": {},
     "output_type": "execute_result"
    }
   ],
   "source": [
    "soup.get_text() # remove all html tags and return a clear text"
   ]
  },
  {
   "cell_type": "markdown",
   "id": "00eaa868-6113-4faf-abf0-73366480074b",
   "metadata": {},
   "source": [
    "## Function to clean email"
   ]
  },
  {
   "cell_type": "code",
   "execution_count": 41,
   "id": "e8381bcf-b89a-4bb3-ba7d-c7054db100c3",
   "metadata": {},
   "outputs": [],
   "source": [
    "def clean_emails(message, stemmer = PorterStemmer(), stop_words = set(stopwords.words('english'))):\n",
    "    # removing HTML tags\n",
    "    soup = BeautifulSoup(message)\n",
    "    message_without_html = soup.get_text()\n",
    "    # splits the entire message to individual words (tokens)\n",
    "    tokens = word_tokenize(message_without_html.lower())\n",
    "    \n",
    "    # stemming tokens and removing all puntuations\n",
    "    filtered_words = [stemmer.stem(word) for word in tokens if word not in stop_words and word.isalpha()]\n",
    "    return filtered_words"
   ]
  },
  {
   "cell_type": "markdown",
   "id": "967f8c50-f298-4513-b0ca-4ee688058efd",
   "metadata": {},
   "source": [
    "### Accessing individual data from the dataset"
   ]
  },
  {
   "cell_type": "code",
   "execution_count": 42,
   "id": "ed8e9a8a-53e5-44a3-a49d-3279391817cd",
   "metadata": {},
   "outputs": [
    {
     "data": {
      "text/plain": [
       "['save',\n",
       " 'life',\n",
       " 'insur',\n",
       " 'spend',\n",
       " 'life',\n",
       " 'quot',\n",
       " 'save',\n",
       " 'g',\n",
       " 'famili',\n",
       " 'financi',\n",
       " 'secur',\n",
       " 'import',\n",
       " 'life',\n",
       " 'quot',\n",
       " 'save',\n",
       " 'ke',\n",
       " 'buy',\n",
       " 'life',\n",
       " 'insur',\n",
       " 'simpl',\n",
       " 'afford',\n",
       " 'provid',\n",
       " 'free',\n",
       " 'access',\n",
       " 'best',\n",
       " 'compani',\n",
       " 'lowest',\n",
       " 'rate',\n",
       " 'life',\n",
       " 'quot',\n",
       " 'save',\n",
       " 'fast',\n",
       " 'save',\n",
       " 'money',\n",
       " 'let',\n",
       " 'us',\n",
       " 'help',\n",
       " 'get',\n",
       " 'start',\n",
       " 'best',\n",
       " 'ue',\n",
       " 'countri',\n",
       " 'new',\n",
       " 'coverag',\n",
       " 'save',\n",
       " 'hundr',\n",
       " 'even',\n",
       " 'usand',\n",
       " 'dollar',\n",
       " 'request',\n",
       " 'free',\n",
       " 'quot',\n",
       " 'lifequot',\n",
       " 'save',\n",
       " 'servic',\n",
       " 'take',\n",
       " 'less',\n",
       " 'minut',\n",
       " 'complet',\n",
       " 'shop',\n",
       " 'compar',\n",
       " 'save',\n",
       " 'type',\n",
       " 'life',\n",
       " 'insur',\n",
       " 'click',\n",
       " 'free',\n",
       " 'quot',\n",
       " 'protect',\n",
       " 'famili',\n",
       " 'best',\n",
       " 'invest',\n",
       " 'r',\n",
       " 'make',\n",
       " 'receipt',\n",
       " 'email',\n",
       " 'error',\n",
       " 'wish',\n",
       " 'remov',\n",
       " 'list',\n",
       " 'pleas',\n",
       " 'click',\n",
       " 'type',\n",
       " 'remov',\n",
       " 'resid',\n",
       " 'state',\n",
       " 'prohibit',\n",
       " 'solicit',\n",
       " 'ce',\n",
       " 'pleas',\n",
       " 'disregard',\n",
       " 'center']"
      ]
     },
     "execution_count": 42,
     "metadata": {},
     "output_type": "execute_result"
    }
   ],
   "source": [
    "clean_emails(dataset.at[0, 'MESSAGE'])"
   ]
  },
  {
   "cell_type": "markdown",
   "id": "65f9982c-1202-49f2-bcde-b02db83d9a15",
   "metadata": {},
   "source": [
    "### Slicing dataset to access set of data from the dataset"
   ]
  },
  {
   "cell_type": "code",
   "execution_count": 43,
   "id": "9bc02b0c-fbf6-4526-a038-531c1f884c6a",
   "metadata": {},
   "outputs": [
    {
     "data": {
      "text/plain": [
       "DOC_ID\n",
       "5     [powerhous, gift, program, want, miss, get, fo...\n",
       "6     [help, want, year, old, fortun, compani, grow,...\n",
       "7     [reliaquot, save, life, insur, life, chang, in...\n",
       "8     [tire, bull, want, stop, lose, money, want, re...\n",
       "9     [dear, cost, effect, direct, email, advertis, ...\n",
       "10    [cellular, phone, accessori, wholesal, price, ...\n",
       "Name: MESSAGE, dtype: object"
      ]
     },
     "execution_count": 43,
     "metadata": {},
     "output_type": "execute_result"
    }
   ],
   "source": [
    "# selecting a set of emails\n",
    "some_emails = dataset.MESSAGE.iloc[5:11]\n",
    "nested_list = some_emails.apply(clean_emails) # call a clean function and pass each email in some_emails to the function\n",
    "nested_list"
   ]
  },
  {
   "cell_type": "code",
   "execution_count": 44,
   "id": "f4f2c604-1949-4e7d-abef-11b0a953d3d1",
   "metadata": {},
   "outputs": [
    {
     "data": {
      "text/plain": [
       "['powerhous',\n",
       " 'gift',\n",
       " 'program',\n",
       " 'want',\n",
       " 'miss',\n",
       " 'get',\n",
       " 'founder',\n",
       " 'major',\n",
       " 'player',\n",
       " 'one']"
      ]
     },
     "execution_count": 44,
     "metadata": {},
     "output_type": "execute_result"
    }
   ],
   "source": [
    "flat_list = [word for sublist in nested_list for word in sublist]\n",
    "flat_list[:10]"
   ]
  },
  {
   "cell_type": "code",
   "execution_count": 45,
   "id": "20045c79-174f-4e25-b0e5-42fa8ba170e9",
   "metadata": {},
   "outputs": [],
   "source": [
    "# Creating list of spam emails and non spam emails locations in dataset\n",
    "spam_index = dataset[dataset.CATEGORY == 1].index\n",
    "non_spam_index = dataset[dataset.CATEGORY == 0].index"
   ]
  },
  {
   "cell_type": "code",
   "execution_count": 46,
   "id": "cd396337-e576-42ab-8b7c-b0a6cc2764e9",
   "metadata": {},
   "outputs": [
    {
     "data": {
      "text/html": [
       "<div>\n",
       "<style scoped>\n",
       "    .dataframe tbody tr th:only-of-type {\n",
       "        vertical-align: middle;\n",
       "    }\n",
       "\n",
       "    .dataframe tbody tr th {\n",
       "        vertical-align: top;\n",
       "    }\n",
       "\n",
       "    .dataframe thead th {\n",
       "        text-align: right;\n",
       "    }\n",
       "</style>\n",
       "<table border=\"1\" class=\"dataframe\">\n",
       "  <thead>\n",
       "    <tr style=\"text-align: right;\">\n",
       "      <th></th>\n",
       "      <th>MESSAGE</th>\n",
       "      <th>CATEGORY</th>\n",
       "      <th>FILE_NAME</th>\n",
       "    </tr>\n",
       "    <tr>\n",
       "      <th>DOC_ID</th>\n",
       "      <th></th>\n",
       "      <th></th>\n",
       "      <th></th>\n",
       "    </tr>\n",
       "  </thead>\n",
       "  <tbody>\n",
       "    <tr>\n",
       "      <th>0</th>\n",
       "      <td>&lt;!DOCTYPE HTML PUBLIC \"-//W3C//DTD HTML 4.0 Tr...</td>\n",
       "      <td>1</td>\n",
       "      <td>00001.7848dde101aa985090474a91ec93fcf0</td>\n",
       "    </tr>\n",
       "    <tr>\n",
       "      <th>1</th>\n",
       "      <td>1) Fight The Risk of Cancer!\\n\\nhttp://www.adc...</td>\n",
       "      <td>1</td>\n",
       "      <td>00002.d94f1b97e48ed3b553b3508d116e6a09</td>\n",
       "    </tr>\n",
       "    <tr>\n",
       "      <th>2</th>\n",
       "      <td>1) Fight The Risk of Cancer!\\n\\nhttp://www.adc...</td>\n",
       "      <td>1</td>\n",
       "      <td>00003.2ee33bc6eacdb11f38d052c44819ba6c</td>\n",
       "    </tr>\n",
       "    <tr>\n",
       "      <th>3</th>\n",
       "      <td>##############################################...</td>\n",
       "      <td>1</td>\n",
       "      <td>00004.eac8de8d759b7e74154f142194282724</td>\n",
       "    </tr>\n",
       "    <tr>\n",
       "      <th>4</th>\n",
       "      <td>I thought you might like these:\\n\\n1) Slim Dow...</td>\n",
       "      <td>1</td>\n",
       "      <td>00005.57696a39d7d84318ce497886896bf90d</td>\n",
       "    </tr>\n",
       "    <tr>\n",
       "      <th>...</th>\n",
       "      <td>...</td>\n",
       "      <td>...</td>\n",
       "      <td>...</td>\n",
       "    </tr>\n",
       "    <tr>\n",
       "      <th>1891</th>\n",
       "      <td>&lt;html&gt;\\n\\n&lt;head&gt;\\n\\n&lt;meta http-equiv=\"content-...</td>\n",
       "      <td>1</td>\n",
       "      <td>01396.e80a10644810bc2ae3c1b58c5fd38dfa</td>\n",
       "    </tr>\n",
       "    <tr>\n",
       "      <th>1892</th>\n",
       "      <td>This is a multi-part message in MIME format.\\n...</td>\n",
       "      <td>1</td>\n",
       "      <td>01397.f75f0dd0dd923faefa3e9cc5ecb8c906</td>\n",
       "    </tr>\n",
       "    <tr>\n",
       "      <th>1893</th>\n",
       "      <td>Dear Subscriber,\\n\\n\\n\\nIf I could show you a ...</td>\n",
       "      <td>1</td>\n",
       "      <td>01398.8ca7045aae4184d56e8509dc5ad6d979</td>\n",
       "    </tr>\n",
       "    <tr>\n",
       "      <th>1894</th>\n",
       "      <td>****Mid-Summer Customer Appreciation SALE!****...</td>\n",
       "      <td>1</td>\n",
       "      <td>01399.2319643317e2c5193d574e40a71809c2</td>\n",
       "    </tr>\n",
       "    <tr>\n",
       "      <th>1895</th>\n",
       "      <td>ATTN:SIR/MADAN      \\n\\n\\n\\n                  ...</td>\n",
       "      <td>1</td>\n",
       "      <td>01400.b444b69845db2fa0a4693ca04e6ac5c5</td>\n",
       "    </tr>\n",
       "  </tbody>\n",
       "</table>\n",
       "<p>1896 rows × 3 columns</p>\n",
       "</div>"
      ],
      "text/plain": [
       "                                                  MESSAGE  CATEGORY  \\\n",
       "DOC_ID                                                                \n",
       "0       <!DOCTYPE HTML PUBLIC \"-//W3C//DTD HTML 4.0 Tr...         1   \n",
       "1       1) Fight The Risk of Cancer!\\n\\nhttp://www.adc...         1   \n",
       "2       1) Fight The Risk of Cancer!\\n\\nhttp://www.adc...         1   \n",
       "3       ##############################################...         1   \n",
       "4       I thought you might like these:\\n\\n1) Slim Dow...         1   \n",
       "...                                                   ...       ...   \n",
       "1891    <html>\\n\\n<head>\\n\\n<meta http-equiv=\"content-...         1   \n",
       "1892    This is a multi-part message in MIME format.\\n...         1   \n",
       "1893    Dear Subscriber,\\n\\n\\n\\nIf I could show you a ...         1   \n",
       "1894    ****Mid-Summer Customer Appreciation SALE!****...         1   \n",
       "1895    ATTN:SIR/MADAN      \\n\\n\\n\\n                  ...         1   \n",
       "\n",
       "                                     FILE_NAME  \n",
       "DOC_ID                                          \n",
       "0       00001.7848dde101aa985090474a91ec93fcf0  \n",
       "1       00002.d94f1b97e48ed3b553b3508d116e6a09  \n",
       "2       00003.2ee33bc6eacdb11f38d052c44819ba6c  \n",
       "3       00004.eac8de8d759b7e74154f142194282724  \n",
       "4       00005.57696a39d7d84318ce497886896bf90d  \n",
       "...                                        ...  \n",
       "1891    01396.e80a10644810bc2ae3c1b58c5fd38dfa  \n",
       "1892    01397.f75f0dd0dd923faefa3e9cc5ecb8c906  \n",
       "1893    01398.8ca7045aae4184d56e8509dc5ad6d979  \n",
       "1894    01399.2319643317e2c5193d574e40a71809c2  \n",
       "1895    01400.b444b69845db2fa0a4693ca04e6ac5c5  \n",
       "\n",
       "[1896 rows x 3 columns]"
      ]
     },
     "execution_count": 46,
     "metadata": {},
     "output_type": "execute_result"
    }
   ],
   "source": [
    "dataset.iloc[spam_index]"
   ]
  },
  {
   "cell_type": "markdown",
   "id": "5b88d976-94e9-4df8-b875-7e0c667a0721",
   "metadata": {},
   "source": [
    "### Applying function to clean all emails in dataset"
   ]
  },
  {
   "cell_type": "code",
   "execution_count": 47,
   "id": "c83c490b-e893-462b-bdc6-48beb0b0bd5f",
   "metadata": {},
   "outputs": [
    {
     "name": "stderr",
     "output_type": "stream",
     "text": [
      "C:\\Users\\DAVID ANDERSON\\anaconda3\\lib\\site-packages\\bs4\\__init__.py:435: MarkupResemblesLocatorWarning: The input looks more like a filename than markup. You may want to open this file and pass the filehandle into Beautiful Soup.\n",
      "  warnings.warn(\n",
      "C:\\Users\\DAVID ANDERSON\\anaconda3\\lib\\site-packages\\bs4\\__init__.py:404: MarkupResemblesLocatorWarning: The input looks more like a URL than markup. You may want to use an HTTP client like requests to get the document behind the URL, and feed that document to Beautiful Soup.\n",
      "  warnings.warn(\n"
     ]
    },
    {
     "name": "stdout",
     "output_type": "stream",
     "text": [
      "Wall time: 35.4 s\n"
     ]
    }
   ],
   "source": [
    "%%time\n",
    "all_cleaned_emails = dataset.MESSAGE.apply(clean_emails)"
   ]
  },
  {
   "cell_type": "code",
   "execution_count": 48,
   "id": "93332b71-b301-4a65-9517-2d5aac49fd5e",
   "metadata": {},
   "outputs": [],
   "source": [
    "cleaned_spam_emails_list = all_cleaned_emails[spam_index]\n",
    "cleaned_non_spam_emails_list = all_cleaned_emails[non_spam_index]"
   ]
  },
  {
   "cell_type": "code",
   "execution_count": 49,
   "id": "c10ae940-034c-4a89-9062-58c28e7ee37b",
   "metadata": {},
   "outputs": [
    {
     "data": {
      "text/plain": [
       "DOC_ID\n",
       "0       [save, life, insur, spend, life, quot, save, g...\n",
       "1       [fight, risk, cancer, http, slim, guarante, lo...\n",
       "2       [fight, risk, cancer, http, slim, guarante, lo...\n",
       "3       [adult, club, offer, free, membership, instant...\n",
       "4       [thought, might, like, slim, guarante, lose, l...\n",
       "                              ...                        \n",
       "1891    [want, boss, train, home, studi, thousand, peo...\n",
       "1892    [messag, mime, format, prefer, doctor, order, ...\n",
       "1893    [dear, subscrib, could, show, way, get, visito...\n",
       "1894    [custom, appreci, sale, express, appreci, loya...\n",
       "1895    [attn, strictli, confidenti, pleas, introduc, ...\n",
       "Name: MESSAGE, Length: 1896, dtype: object"
      ]
     },
     "execution_count": 49,
     "metadata": {},
     "output_type": "execute_result"
    }
   ],
   "source": [
    "cleaned_spam_emails_list"
   ]
  },
  {
   "cell_type": "code",
   "execution_count": 50,
   "id": "485f1442-ca02-4642-a275-4e7cb14fa4e6",
   "metadata": {},
   "outputs": [
    {
     "data": {
      "text/plain": [
       "DOC_ID\n",
       "1896    [date, wed, aug, chri, garrigu, ca, reproduc, ...\n",
       "1897    [martin, post, tasso, papadopoulo, greek, scul...\n",
       "1898    [man, threaten, explos, moscow, thursday, augu...\n",
       "1899    [klez, viru, wo, die, alreadi, prolif, viru, e...\n",
       "1900    [ad, cream, spaghetti, carbonara, effect, past...\n",
       "                              ...                        \n",
       "5791    [http, bizarr, collect, stuf, anim, could, fet...\n",
       "5792    [care, use, one, also, realli, cute, thing, ja...\n",
       "5793    [sm, skip, montanaro, write, jeremi, put, anot...\n",
       "5794    [mark, hammond, like, given, zodb, sound, attr...\n",
       "5795    [hi, probabl, use, whatsoev, also, problem, re...\n",
       "Name: MESSAGE, Length: 3900, dtype: object"
      ]
     },
     "execution_count": 50,
     "metadata": {},
     "output_type": "execute_result"
    }
   ],
   "source": [
    "cleaned_non_spam_emails_list"
   ]
  },
  {
   "cell_type": "code",
   "execution_count": 51,
   "id": "c7091e44-cc5f-43fb-835d-fcc36ba96fed",
   "metadata": {},
   "outputs": [],
   "source": [
    "# Creating list of all spam words\n",
    "spam_words = [word for sublist in cleaned_spam_emails_list for word in sublist]\n",
    "\n",
    "# Creating list of all non-spam words\n",
    "non_spam_words = [word for sublist in cleaned_non_spam_emails_list for word in sublist]"
   ]
  },
  {
   "cell_type": "code",
   "execution_count": 52,
   "id": "395d1159-3df9-472c-afd7-4517cc08a66a",
   "metadata": {},
   "outputs": [
    {
     "data": {
      "text/plain": [
       "[('http', 3073),\n",
       " ('email', 3061),\n",
       " ('free', 2578),\n",
       " ('click', 2043),\n",
       " ('receiv', 1989),\n",
       " ('list', 1953),\n",
       " ('get', 1914),\n",
       " ('pleas', 1840),\n",
       " ('busi', 1791),\n",
       " ('order', 1746)]"
      ]
     },
     "execution_count": 52,
     "metadata": {},
     "output_type": "execute_result"
    }
   ],
   "source": [
    "Counter(spam_words).most_common(10)"
   ]
  },
  {
   "cell_type": "code",
   "execution_count": 53,
   "id": "230d6650-51fd-4125-9b84-0b31902233a2",
   "metadata": {},
   "outputs": [
    {
     "data": {
      "text/plain": [
       "[('http', 7553),\n",
       " ('use', 3626),\n",
       " ('list', 2877),\n",
       " ('one', 2370),\n",
       " ('get', 2285),\n",
       " ('mail', 2255),\n",
       " ('would', 2002),\n",
       " ('like', 1930),\n",
       " ('messag', 1848),\n",
       " ('work', 1797)]"
      ]
     },
     "execution_count": 53,
     "metadata": {},
     "output_type": "execute_result"
    }
   ],
   "source": [
    "Counter(non_spam_words).most_common(10)"
   ]
  },
  {
   "cell_type": "markdown",
   "id": "b16fed20-b2cd-42cd-8ab7-7c3c868f76c6",
   "metadata": {},
   "source": [
    "# WordCloud VIsualization"
   ]
  },
  {
   "cell_type": "code",
   "execution_count": 54,
   "id": "b02e7830-8f5e-4a92-9284-fe5ed3812a93",
   "metadata": {},
   "outputs": [
    {
     "data": {
      "image/png": "[encoded data removed]",
      "text/plain": [
       "<Figure size 1800x600 with 1 Axes>"
      ]
     },
     "metadata": {},
     "output_type": "display_data"
    },
    {
     "name": "stdout",
     "output_type": "stream",
     "text": [
      "Wall time: 40.4 s\n"
     ]
    }
   ],
   "source": [
    "%%time\n",
    "thumb_up_icon = Image.open(THUMB_UP_FILE)\n",
    "image_mask = Image.new(mode='RGB', size=thumb_up_icon.size, color=(255, 255, 255))\n",
    "image_mask.paste(thumb_up_icon, box=thumb_up_icon)\n",
    "rgb_array = np.array(image_mask) # convert image mask to an array\n",
    "\n",
    "word_cloud = WordCloud(mask=rgb_array, background_color='white', max_words=2000, colormap='winter', font_path=FONT_FILE)\n",
    "word_cloud.generate(' '.join(spam_words).upper())\n",
    "\n",
    "plt.figure(figsize=(18, 6))\n",
    "plt.imshow(word_cloud, interpolation='bilinear')\n",
    "plt.axis('off')\n",
    "plt.show()"
   ]
  },
  {
   "cell_type": "code",
   "execution_count": 55,
   "id": "e8f96cff-6c38-4aba-9839-0ef42d69dfb0",
   "metadata": {},
   "outputs": [
    {
     "data": {
      "image/png": "[encoded data removed]",
      "text/plain": [
       "<Figure size 1800x600 with 1 Axes>"
      ]
     },
     "metadata": {},
     "output_type": "display_data"
    },
    {
     "name": "stdout",
     "output_type": "stream",
     "text": [
      "Wall time: 51.6 s\n"
     ]
    }
   ],
   "source": [
    "%%time\n",
    "thumb_down_icon = Image.open(THUMB_DOWN_FILE)\n",
    "image_mask = Image.new(mode='RGB', size=thumb_down_icon.size, color=(255, 255, 255))\n",
    "image_mask.paste(thumb_down_icon, box=thumb_down_icon)\n",
    "rgb_array = np.array(image_mask) # convert image mask to an array\n",
    "\n",
    "word_cloud = WordCloud(mask=rgb_array, background_color='white', max_words=2000, colormap='gist_heat', font_path=FONT_FILE)\n",
    "word_cloud.generate(' '.join(non_spam_words).upper())\n",
    "\n",
    "plt.figure(figsize=(18, 6))\n",
    "plt.imshow(word_cloud, interpolation='bilinear')\n",
    "plt.axis('off')\n",
    "plt.show()"
   ]
  },
  {
   "cell_type": "markdown",
   "id": "ff7b673c-4b45-4374-82dc-c3cdbae959a0",
   "metadata": {},
   "source": [
    "#  Generate Vocabulary & Dictionary"
   ]
  },
  {
   "cell_type": "code",
   "execution_count": 56,
   "id": "701771f1-6136-48a8-b003-c8ea7f0f9538",
   "metadata": {},
   "outputs": [
    {
     "name": "stdout",
     "output_type": "stream",
     "text": [
      "27307\n"
     ]
    },
    {
     "data": {
      "text/plain": [
       "http     10626\n",
       "use       5011\n",
       "list      4830\n",
       "email     4337\n",
       "get       4199\n",
       "dtype: int64"
      ]
     },
     "execution_count": 56,
     "metadata": {},
     "output_type": "execute_result"
    }
   ],
   "source": [
    "flat_words = [word for subset in all_cleaned_emails for word in subset]\n",
    "unique_words = pd.Series(flat_words).value_counts()\n",
    "print(unique_words.shape[0])\n",
    "unique_words.head()"
   ]
  },
  {
   "cell_type": "code",
   "execution_count": 57,
   "id": "aed4841d-a863-4057-a461-c1c1f2813336",
   "metadata": {},
   "outputs": [
    {
     "data": {
      "text/plain": [
       "http     10626\n",
       "use       5011\n",
       "list      4830\n",
       "email     4337\n",
       "get       4199\n",
       "mail      3966\n",
       "one       3901\n",
       "free      3195\n",
       "time      3036\n",
       "work      2870\n",
       "dtype: int64"
      ]
     },
     "execution_count": 57,
     "metadata": {},
     "output_type": "execute_result"
    }
   ],
   "source": [
    "frequent_words = unique_words[0:VOCAB_NO]\n",
    "frequent_words[:10]"
   ]
  },
  {
   "cell_type": "markdown",
   "id": "581eb16e-be25-4e29-aa67-7dd954d44b04",
   "metadata": {},
   "source": [
    "## Creating Vocabulary Datafrrame with word_ids"
   ]
  },
  {
   "cell_type": "code",
   "execution_count": 58,
   "id": "6945bc45-875c-4746-af0d-a2970b0594b3",
   "metadata": {},
   "outputs": [],
   "source": [
    "word_ids = list(range(VOCAB_NO))"
   ]
  },
  {
   "cell_type": "code",
   "execution_count": 59,
   "id": "fce022cd-a58c-4766-bb49-a2350e3a0b7d",
   "metadata": {},
   "outputs": [
    {
     "data": {
      "text/html": [
       "<div>\n",
       "<style scoped>\n",
       "    .dataframe tbody tr th:only-of-type {\n",
       "        vertical-align: middle;\n",
       "    }\n",
       "\n",
       "    .dataframe tbody tr th {\n",
       "        vertical-align: top;\n",
       "    }\n",
       "\n",
       "    .dataframe thead th {\n",
       "        text-align: right;\n",
       "    }\n",
       "</style>\n",
       "<table border=\"1\" class=\"dataframe\">\n",
       "  <thead>\n",
       "    <tr style=\"text-align: right;\">\n",
       "      <th></th>\n",
       "      <th>VOCAB_WORD</th>\n",
       "    </tr>\n",
       "    <tr>\n",
       "      <th>WORD_ID</th>\n",
       "      <th></th>\n",
       "    </tr>\n",
       "  </thead>\n",
       "  <tbody>\n",
       "    <tr>\n",
       "      <th>0</th>\n",
       "      <td>http</td>\n",
       "    </tr>\n",
       "    <tr>\n",
       "      <th>1</th>\n",
       "      <td>use</td>\n",
       "    </tr>\n",
       "    <tr>\n",
       "      <th>2</th>\n",
       "      <td>list</td>\n",
       "    </tr>\n",
       "    <tr>\n",
       "      <th>3</th>\n",
       "      <td>email</td>\n",
       "    </tr>\n",
       "    <tr>\n",
       "      <th>4</th>\n",
       "      <td>get</td>\n",
       "    </tr>\n",
       "    <tr>\n",
       "      <th>...</th>\n",
       "      <td>...</td>\n",
       "    </tr>\n",
       "    <tr>\n",
       "      <th>2495</th>\n",
       "      <td>inch</td>\n",
       "    </tr>\n",
       "    <tr>\n",
       "      <th>2496</th>\n",
       "      <td>filesystem</td>\n",
       "    </tr>\n",
       "    <tr>\n",
       "      <th>2497</th>\n",
       "      <td>fiction</td>\n",
       "    </tr>\n",
       "    <tr>\n",
       "      <th>2498</th>\n",
       "      <td>khare</td>\n",
       "    </tr>\n",
       "    <tr>\n",
       "      <th>2499</th>\n",
       "      <td>presenc</td>\n",
       "    </tr>\n",
       "  </tbody>\n",
       "</table>\n",
       "<p>2500 rows × 1 columns</p>\n",
       "</div>"
      ],
      "text/plain": [
       "         VOCAB_WORD\n",
       "WORD_ID            \n",
       "0              http\n",
       "1               use\n",
       "2              list\n",
       "3             email\n",
       "4               get\n",
       "...             ...\n",
       "2495           inch\n",
       "2496     filesystem\n",
       "2497        fiction\n",
       "2498          khare\n",
       "2499        presenc\n",
       "\n",
       "[2500 rows x 1 columns]"
      ]
     },
     "execution_count": 59,
     "metadata": {},
     "output_type": "execute_result"
    }
   ],
   "source": [
    "vocabulary = pd.DataFrame(data={'VOCAB_WORD': frequent_words.index}, index=word_ids)\n",
    "vocabulary.index.name = 'WORD_ID'\n",
    "vocabulary"
   ]
  },
  {
   "cell_type": "markdown",
   "id": "bc19bd87-d0e9-48b5-98d0-b10a29a9b270",
   "metadata": {},
   "source": [
    "## Saving Vocabulary as CSV"
   ]
  },
  {
   "cell_type": "code",
   "execution_count": 60,
   "id": "c604d8a5-780a-48a8-b6e7-61551cc1d97a",
   "metadata": {},
   "outputs": [],
   "source": [
    "vocabulary.to_csv(WORD_VOCAB_FILE)"
   ]
  },
  {
   "cell_type": "markdown",
   "id": "614edc00-1bba-48bf-8654-0fcd39167808",
   "metadata": {},
   "source": [
    "# Exercise"
   ]
  },
  {
   "cell_type": "markdown",
   "id": "083c12e0-f5c9-4067-ba39-844d0c742729",
   "metadata": {},
   "source": [
    "## Checking if a word exists in a vocabulary"
   ]
  },
  {
   "cell_type": "code",
   "execution_count": 61,
   "id": "fea808c8-7f2d-4cac-9db8-a8f11b20d39a",
   "metadata": {},
   "outputs": [
    {
     "data": {
      "text/plain": [
       "True"
      ]
     },
     "execution_count": 61,
     "metadata": {},
     "output_type": "execute_result"
    }
   ],
   "source": [
    "# check these words individually\n",
    "# app\n",
    "# learn\n",
    "# http\n",
    "# teacher\n",
    "# data\n",
    "# science\n",
    "'app' in set(vocabulary.VOCAB_WORD)"
   ]
  },
  {
   "cell_type": "markdown",
   "id": "a448f828-7b42-4590-b084-069ed9626e19",
   "metadata": {},
   "source": [
    "## Finding the longest email"
   ]
  },
  {
   "cell_type": "code",
   "execution_count": 62,
   "id": "672f46d4-8bb7-4d66-a2ec-1af8dac234f2",
   "metadata": {},
   "outputs": [
    {
     "data": {
      "text/plain": [
       "DOC_ID\n",
       "0       [save, life, insur, spend, life, quot, save, g...\n",
       "1       [fight, risk, cancer, http, slim, guarante, lo...\n",
       "2       [fight, risk, cancer, http, slim, guarante, lo...\n",
       "3       [adult, club, offer, free, membership, instant...\n",
       "4       [thought, might, like, slim, guarante, lose, l...\n",
       "                              ...                        \n",
       "5791    [http, bizarr, collect, stuf, anim, could, fet...\n",
       "5792    [care, use, one, also, realli, cute, thing, ja...\n",
       "5793    [sm, skip, montanaro, write, jeremi, put, anot...\n",
       "5794    [mark, hammond, like, given, zodb, sound, attr...\n",
       "5795    [hi, probabl, use, whatsoev, also, problem, re...\n",
       "Name: MESSAGE, Length: 5796, dtype: object"
      ]
     },
     "execution_count": 62,
     "metadata": {},
     "output_type": "execute_result"
    }
   ],
   "source": [
    "all_cleaned_emails"
   ]
  },
  {
   "cell_type": "code",
   "execution_count": 63,
   "id": "7d76fa20-481f-4b08-8f0c-9e44884dc00a",
   "metadata": {},
   "outputs": [
    {
     "name": "stdout",
     "output_type": "stream",
     "text": [
      "The position is:  5775\n"
     ]
    }
   ],
   "source": [
    "length_of_emails = [len(email) for email in all_cleaned_emails]\n",
    "\n",
    "largest = length_of_emails[0]\n",
    "pos = 0\n",
    "for x in length_of_emails:\n",
    "    if x > largest:\n",
    "        largest = x\n",
    "        pos = length_of_emails.index(largest)\n",
    "\n",
    "# using numpy to get the position\n",
    "position = np.argmax(length_of_emails)\n",
    "print('The position is: ', position)"
   ]
  },
  {
   "cell_type": "code",
   "execution_count": 64,
   "id": "a9c7a096-6ec9-4f5d-ac3e-39beacb37b3d",
   "metadata": {},
   "outputs": [
    {
     "name": "stdout",
     "output_type": "stream",
     "text": [
      "<built-in function max>\n",
      "5775\n"
     ]
    }
   ],
   "source": [
    "print(max)\n",
    "print(pos)"
   ]
  },
  {
   "cell_type": "code",
   "execution_count": 65,
   "id": "f440b201-3cb4-4228-b93c-a253e91f04cd",
   "metadata": {
    "tags": []
   },
   "outputs": [
    {
     "data": {
      "text/plain": [
       "'yahoo group sponsor dvd free p join http new version unison avail test incorpor sever small improv main chang fix bug potenti seriou safeti consequ small number user habit run one instanc unison time parallel user strongli encourag upgrad other wait wish releas includ execut linux solari window look maintain moment none activ develop regularli use unison window machin configur properli build execut export grab http enjoy benjamin chang sinc ad prefer maxthread use limit number simultan file transfer ad backupdir prefer control backup file store basic support ad osx particular unison recogn one host synchron run osx switch treatment filenam consid file osx yet fulli work howev particular file resourc fork synchron correctli hash use form archiv name also ad name temp file creat file transfer reason updat detect go silent delet old temp file find along way want prevent delet temp file belong instanc unison may run parallel synchron differ host thank ruslan ermilov suggest sever small user interfac improv document faq bug report instruct split separ html page access directli unison web page addit faq particular suggest perform tune makefil set automat depend whether find lablgtk instal unison compil box osx chang sinc chang profil work window file movement optim unison tri use local copi instead transfer move copi file control boolean option xferbycopi network statist window transfer rate amount data transfer nb avail version symlink work cygwin version dynam link fix potenti deadlock synchron window unix small improv neither tt userprofil tt home environ variabl set unison put temporari commit log call tt directori name tt unison environ variabl otherwis use tt c altern set valu fastcheck ye true fals default auto impli sourc code code reorgan tidi start break basic util modul stuff made avail project sever makefil doc chang releas comment connect inform store global variabl anymor chang sinc small bugfix textual user interfac unix avoid leav termin bad state would echo input unison exit chang sinc improv main web page stabl beta version doc access user manual revis ad new prefer sshcmd rshcmd specifi path ssh rsh program contactquietli suppress contact server messag unison startup graphic ui bug fix fix small bug ui neglect chang display column header load new profil caus root chang fix bug would put text ui infinit loop encount conflict run batch mode ad code tri fix display charact filenam window system gtk ui code current untest one peopl report problem display filenam appreci know actual fix thing newer work properli bug report sebastian urbaniak sean fulton user interfac unison behavior renam proceed go graphic ui ad exit statu textual user interfac path synchron conflict error updat detect note log file end messag log use briefer format chang text ui startup sequenc tt text use default profil instead fail made improv error messag ad debug messag chang sinc incorpor transport transfer sever file time therebi make much effect use avail network bandwidth unlik earlier attempt time reli nativ thread librari ocaml instead implement librari ocaml directli version appear stabl adjust unison made accommod version includ particular chang user interfac log exampl two log entri transfer task one begin one end suppress warn messag remov temp file left previou unison run warn work nice temp file name made less like coincid name file creat user take form ad new command gtk user interfac press f caus unison start new updat detect phase use path path detect chang yet mark success complet use command quickli restart unison set path still need attent previou run made ignorecas prefer chang initi code manual set true even neither host run window may use use unison run unix system fat volum mount small improv bug fix error prefer file gener fatal error rather warn startup time ca go also fix bug prevent warn appear text ui user run unsuspectingli garbag pref file may get error report error report prefer file provid file name line number intellig messag case ident chang file noth replica chang ident way sinc last sync file prefix exclud scan prefer file rsync instruct send directli instead first marshal wo tri forev get fingerprint continu chang file unison give certain number retri bug fix includ one report peter seling prefer work compil upgrad new ocaml compil lablgtk librari patch version use compil window ad option compil unison window platform cygwin gnu c compil option support build dynam link unison execut chang sinc fix silli debilit bug client startup sequenc chang sinc ad addprefsto prefer set control prefer file new prefer new ignor pattern ad bug fix read initi connect header one byte time block header shorter expect bug affect normal oper made hard tell tri use unison incorrectli old version server sinc would hang instead give error messag chang sinc chang fastcheck boolean string prefer legal valu ye fast check safe check default fast check also happen safe run unix safe check window default default sever prefer renam consist prefer name spell lowercas backward compat old name still work mention manual temp file creat command name prepend new prefix file name rather append suffix avoid confus program depend suffix guess type file content set keepal option server socket make sure server time commun link unexpectedli broken bug fix updat small file unison close destin file file permiss properli updat file behind follow link sever small fix chang sinc major window perform improv ad prefer fastcheck make unison look file creation time time check whether chang result huge speedup check updat larg replica switch set unison use file creation time inod number scan window replica updat instead read full content everi file may caus unison miss propag updat creat time modif time length file unchang updat easi achiev done howev unison never overwrit updat chang replica sinc alway safe check updat propag chang thu reason use switch time occasion run unison fastcheck set fals worri unison may overlook updat warn chang yet thoroughli set fastcheck prefer pay care attent unison new function central backup merg version incorpor two piec major new function implement sylvain roy summer internship penn central backup facil keep full backup select file replica merg featur allow unison invok extern tool resolv conflict chang individu file central backup unison maintain full backup version file replica function backup usual sens common version invok extern merg program back file store directori host name directori chang set environ variabl unisonbackupdir predic backup control file actual back give prefer path caus back file file ad backup directori whenev unison updat archiv mean unison reconstruct archiv scratch upgrad archiv file manual delet file back otherwis file back first time unison propag updat prefer backupvers control mani previou version file kept default last synchron version plu one backup backward compat backup prefer also still support backup prefer ok manual delet file backup directori throw away directori unison use file anyth import check fingerprint match one expect merg user interfac offer new command invok press chang file select actual merg perform extern program prefer merg control program invok backup exist file see backup prefer merg prefer use purpos otherwis use case valu prefer string repres command pass shell invok merg program within string special substr new old may appear point unison substitut follow invok command replac name local copi file replac name temporari file content remot copi file transfer unison prior perform merg new replac name temporari file unison expect written merg program finish give desir new content file old replac name back copi origin version file state end last success run unison one exist appli merg exampl unix system set merg prefer merg old new tell unison use extern program merg larg number extern merg program avail exampl emac user may find follow conveni emac eval nil new merg emac eval old nil new command display two line avoid run edg page prefer file written singl line extern program exit without leav file path new unison consid merg fail merg program write file call new exit statu code unison consid merg succeed gener conflict case attempt invok extern editor user resolv conflict valu editor prefer control editor invok unison default emac pleas send us suggest use valu merg prefer like give sever exampl manual smaller chang one prefer file includ anoth unison longer add suffix includ file default file precis given name exist directori use otherwis unison add chang mean includ prefer file name instead unison offer prefer dialog linux system offer static link dynam link execut static one larger probabl run system sinc depend version dynam link librari modul avail fix forc prefer prefer get propag direct exactli backward fix bug startup code would caus unison crash default profil exist fix bug run profil first creat unison would confusingli display root revers order user interfac develop ad modul depend diagram sourc distribut help new prospect develop navig code chang sinc incompat chang archiv format chang incompat chang startup sequenc complet rewritten greatli simplifi main chang defaultpath prefer remov effect approxim use multipl profil includ direct incorpor common set use defaultpath exist profil chang path anoth chang startup behavior affect user longer possibl specifi root profil command line achiev similar effect though break profil two root blah root foo includ common unison common want specifi root explicitli option extend allow user specifi file recent modtim propag write either newer newer symmetri unison also accept older older option use also set graphic user interfac provid access facil basi via action menu name root alias allow replica reloc without chang name archiv file unison store inform run featur expert see archiv file section manual inform graphic new command provid synchron menu switch new profil without restart unison scratch gui also support shortcut commonli use profil profil contain prefer form n n singl digit press key caus unison immedi switch profil begin synchron scratch action may select set chang current display discard profil may includ prefer give descript string describ option select profil string list along profil name profil select dialog display corner main unison window minor fix bug would sometim caus display order file backward rel main user interfac thank pascal brisset fix unix system graphic version unison check display variabl set automat fall back textual user interfac synchron path path prefer match ignor prefer path specifi path prefer ignor skip numer bugfix small improv chang sinc synchron modif time disabl directori prefer file may includ line form includ caus read point synchron permiss window unix work properli bind ad environ cygwin port openssh work properli context servercmd addversionno prefer use togeth append appropri server command found use valu prefer one els unison val allow boolean valu former use set prefer fals lot small bug fix chang sinc log prefer set true default sinc log file seem use user sever miscellan bugfix involv symlink chang sinc incompat chang archiv format chang sever signific bug introduc fix chang sinc incompat chang archiv format chang make sure synchron replica upgrad avoid spuriou conflict first sync upgrad slow new function unison synchron file modtim new featur control set new prefer current fals default time prefer set true file modif time propag represent time may granular replica unison may alway abl make modtim precis equal get close oper system involv allow owner prefer set true file ownership inform synchron group prefer set true group inform synchron numericid prefer set true owner group inform synchron numer default owner group number convert name replica name synchron special user id special group never map via name even prefer set ad prefer perm use control propag permiss bit valu prefer mask indic permiss bit synchron set default bit bit synchronis synchron these latter bit secur hazard want synchron bit set valu prefer ad log prefer default fals make unison keep complet record chang make replica default record written file call user home directori valu home environ variabl want someplac els set logfil prefer full pathnam want unison use ad ignorenot prefer maintain set pattern path definit ignor whether match ignor pattern path ignor iff match ignor pattern match ignorenot pattern improv root display user interfac order given command line prefer file batch prefer set graphic user interfac longer wait user confirm display warn messag simpli pop advisori window dismiss button bottom keep go ad new prefer control mani statu messag print updat detect statusdepth control maximum depth path local machin longer path display path valu integ default remov trace silent prefer seem use mani prefer control output variou way text ui display default command one use user type instead avail command type print full list possibl function find canon hostnam local host use exampl calcul name archiv file use rememb file synchron normal use gethostnam oper system call howev environ variabl unisonlocalhostnam set valu use instead make easier use unison situat machin name chang frequent laptop get move around lot file owner group display detail window bottom screen unison configur synchron hacker updat jacqu garrigu new version lablgtk mean throw away local patch version compil gtk version unison sourc need updat copi lablgtk develop releas avail http warn instal lablgtk window current bit challeng file sourc distribut clean reorgan list pend task much easier make sens peopl may want contribut program energi also separ file open bug tk user interfac remov maintain longer compil debug prefer print quit bit addit inform use identifi sourc problem version number remot server check right away connect setup handshak rather later somebodi sent bug report server crash turn come use inconsist version better check earlier way ca crash either client server unison run correctli architectur alpha linux distribut binari architectur least someon would like make avail glad provid link bug fix pattern match ignor unison mode one replica window machin peopl troubl mysteri failur propag updat file would fals report chang synchron fix numer smaller fix chang sinc ad number mode user interfac default conflict chang display top rest entri sort alphabet order behavior chang follow way set sortnewfirst prefer true caus newli creat file display chang file set sortbys caus file display increas order size give prefer path descriptor format pattern caus path match pattern display first similarli give prefer caus path match pattern display last sort prefer describ detail user manual sortnewfirst sortbys flag also access menu grpahic user interfac ad two new prefer use chang fundament behavior make like mirror tool instead synchron give prefer prefer argument ad command line profil mean conflict content propag replica question ask chang treat usual give prefer forc argument make unison resolv differ favor given root even replica chang option use care inform avail manual small chang chang default answer dialog graphic interfac seem intuit rsync prefer remov use activ rsync compress file transfer rsync compress enabl default text user interfac arrow indic direct chang propag print differ user overrid unison default recommend instead match behavior graphic interfac display arrow differ color carriag return ignor end line profil window compat prefer fulli document user manual chang sinc incompat chang archiv format chang make sure synchron replica upgrad avoid spuriou conflict first sync upgrad slow function new prefer control order chang display user set true smallest chang file display first default set fals new prefer caus newli creat file list updat user interfac allow ssh protocol specifi port incompat chang unison protocol deprec ad file socket may modifi profil directori replica specifi without explicit protocol assum refer file previous meant use ssh connect saul access foo directori mean access saul via remot file mechan samba old effect achiev write ssh chang startup sequenc case root given profil given command line new behavior use default profil creat exist temporarili overrid root manual claim case would work read profil afaik never true user interfac file conflict alway list first new prefer use control version ssh use connect server legal valu default empti make unison use whatev version ssh instal default command situat permiss file updat side handl correctli use report spuriou conflict improv window version fact filenam treat window handl correctli exact behavior describ section manual possibl synchron window share workaround bug sync root directori window difficult thing fix ocaml bug fail c version window improv gtk user interfac tk interfac longer maintain ui display action differ blue explicitli chang user default recommend color appear initi profil select window work better transfer fail messag effect display along complet end transfer phase case may scroll top ad global progress meter display percentag total byte transfer far improv text user interfac file detail display automat conflict detect warn gener temporari file left previou run unison unison longer wait respons run mode ui display short list possibl input time wait user interact ui quit immedi rather loop back start interact user press q ask whether propag chang press g text user interfac proceed immedi propag updat without ask question document instal chang manual includ faq plu section common problem trick contribut user download page download directori explicitli say current stabl version number ocaml sourc version guarante stabl even compil given time avail download page ad subsect manual describ issu case conflict illeg filenam mani small bug fix random improv chang sinc sever bug fix import bug rsync modul would occasion caus chang propag fail error chang sinc transport system disabl default stabl enough yet variou bug fix new experiment featur final compon argument may wildcard specifi unison see path expand path client correspond list path list content directori note use wildcard path command line probabl need use quot backslash prevent interpret shell root local content first one use expand wildcard path nb first one canon step one list first user interfac one list first command line prefer file chang sinc transport subsystem includ implement sylvain gommier norman ramsey tridgel mackerra rsync protocol protocol achiev much faster transfer small part larg file chang send diff featur mainli help transfer slow link fast local area network actual degrad perform left default start unison option put prefer file turn progress bar diplay remot file transfer show percentag file transfer far version number scheme chang new releas number like second compon increment everi signific public releas third compon patch level miscellan improv user interfac manual avail pdf format experi use transport subsystem transfer sever file time make much effect use avail network bandwidth featur complet stabl yet default disabl releas version unison want play version need recompil unison sourc describ document set thread flag true make sure ocaml compil instal configur option verifi check whether file ocaml standard librari directori contain string near end chang sinc reduc memori footprint especi import first run unison gather inform file repositori fix bug would caus socket server nt fail client exit ad shift modifi ignor menu shortcut key gtk interfac avoid hit accident chang sinc tunnel ssh support window version see instal section manual detail instruct transport subsystem includ implement rsync protocol built sylvain gommier norman ramsey protocol achiev much faster transfer small part larg file chang send diff rsync featur default current version use switch turn nb still lot tune may notic much speedup yet experi transport subsystem written jerom vouillon download binari still want tri version need recompil sourc say make nativ thread support compil requir use option n select maxim number concurr thread default interoper new user interfac avail thank jacqu garrigu tk user interfac still work shift develop effort gtk interfac ocaml requir compil unison sourc modul uitk myfileselect chang use labltk instead camltk compil tk interfac window must instal put c rather suggest c sure instal header librari instal default ad new switch caus unison use instead unison remot server command allow multipl version unison coexist conveni server whichev version run client version select server chang sinc incompat chang archiv format chang make sure synchron replica upgrad avoid spuriou conflict first sync upgrad slow version fix sever annoy bug includ case propag file permiss work umask ignor creat directori directori creat writabl directori content propag handl warn gener server synchron path whose parent directori side flag erron fix bug relat symnbol link nonexist root chang delet new content propag onto symlink file point link chang use chang link fit assert mean link complet invis one root exist propag root top use fail becuas unison could calcul work directori write chang fix timestamp ad unison archiv file semant path name regular express correspond better minor improv text ui command go back previou item organ export directori chang easier find download thing chang sinc incompat chang archiv format chang make sure synchron replica upgrad avoid spuriou conflict first sync upgrad slow version test extens window major intern chang design make unison safer run time replica chang user intern perform improv chang sinc incompat chang archiv format chang make sure synchron replica upgrad avoid spuriou conflict first sync upgrad slow number intern function chang reduc amount memori alloc especi first synchron help power user big replica reimplement remot procedur call stuff prepar ad smart file transfer later releas miscellan bug fix chang sinc incompat chang archiv format chang make sure synchron replica upgrad avoid spuriou conflict first sync upgrad slow fix small bug interpret ignor pattern fix problem prevent window version work correctli fix treatment file permiss window caus spuriou report differ permiss synchron window unix system fix one list process function caus stack overflow synchron larg replica chang sinc text user interfac provid command ignor file found fix list process function power user report success larg replica incompat chang file end longer ignor automat want ignor file put appropri ignor pattern profil incompat chang syntax ignor follow pattern chang instead put line form ignor profil put ignor regexp moreov two style pattern also recogn ignor name match path one compon match ignor path match exactli path standard glob convent use match singl charact except match sequenc charact includ xyz match charact set x z bb ccc match one bb ccc see user manual exampl chang sinc user report stack overflow synchron huge directori found fix list process function hope solv problem pleas give tri let us know major addit document chang sinc major intern tidi mani small bugfix major addit user manual unison start argument prompt automat name profil file contain root synchron make possibl start graphic ui desktop icon fix small bug text ui nt rais signal except chang sinc precompil window binari last releas compil old ocaml compil caus propag permiss work perhap lead strang behavior heard report correct use precompil binari window pleas upgrad ad command line flag control debug variou modul say xxx enabl debug trace modul xxx turn absolut everyth fix small bug text ui nt rais signal except chang sinc incompat chang name format prefer file directori chang particular file pref renam content file ignor merg line form regexp ignor becom line form ignor regexp unison handl permiss bit symbol link see manual detail differ prefer file directori start unison like unison profilenam one anonym argument file load instead improv termin handl text user interfac ad switch termin remot server process unison client shut even use socket commun default remot server creat use termin automat socket server left run start server mode unison print start stderr readi accept connect may use script want tell server finish init make nightli mirror current intern develop tree case anyon want version hack around ad file contrib suggest help us make unison better chang version chang sinc ad prefer maxthread use limit number simultan file transfer ad backupdir prefer control backup file store basic support ad osx particular unison recogn one host synchron run osx switch treatment filenam consid file osx yet fulli work howev particular file resourc fork synchron correctli hash use form archiv name also ad name temp file creat file transfer reason updat detect go silent delet old temp file find along way want prevent delet temp file belong instanc unison may run parallel synchron differ host thank ruslan ermilov suggest sever small user interfac improv document faq bug report instruct split separ html page access directli unison web page addit faq particular suggest perform tune makefil set automat depend whether find lablgtk instal unison compil box osx chang sinc chang profil work window file movement optim unison tri use local copi instead transfer move copi file control boolean option xferbycopi network statist window transfer rate amount data transfer nb avail version symlink work cygwin version dynam link fix potenti deadlock synchron window unix small improv neither tt userprofil tt home environ variabl set unison put temporari commit log call tt directori name tt unison environ variabl otherwis use tt c altern set valu fastcheck ye true fals default auto impli sourc code code reorgan tidi start break basic util modul stuff made avail project sever makefil doc chang releas comment connect inform store global variabl anymor chang sinc small bugfix textual user interfac unix avoid leav termin bad state would echo input unison exit chang sinc improv main web page stabl beta version doc access user manual revis ad new prefer sshcmd rshcmd specifi path ssh rsh program contactquietli suppress contact server messag unison startup graphic ui bug fix fix small bug ui neglect chang display column header load new profil caus root chang fix bug would put text ui infinit loop encount conflict run batch mode ad code tri fix display charact filenam window system gtk ui code current untest one peopl report problem display filenam appreci know actual fix thing newer work properli bug report sebastian urbaniak sean fulton user interfac unison behavior renam proceed go graphic ui ad exit statu textual user interfac path synchron conflict error updat detect note log file end messag log use briefer format chang text ui startup sequenc tt text use default profil instead fail made improv error messag ad debug messag chang sinc incorpor transport transfer sever file time therebi make much effect use avail network bandwidth unlik earlier attempt time reli nativ thread librari ocaml instead implement librari ocaml directli version appear stabl adjust unison made accommod version includ particular chang user interfac log exampl two log entri transfer task one begin one end suppress warn messag remov temp file left previou unison run warn work nice temp file name made less like coincid name file creat user take form ad new command gtk user interfac press f caus unison start new updat detect phase use path path detect chang yet mark success complet use command quickli restart unison set path still need attent previou run made ignorecas prefer chang initi code manual set true even neither host run window may use use unison run unix system fat volum mount small improv bug fix error prefer file gener fatal error rather warn startup time ca go also fix bug prevent warn appear text ui user run unsuspectingli garbag pref file may get error report error report prefer file provid file name line number intellig messag case ident chang file noth replica chang ident way sinc last sync file prefix exclud scan prefer file rsync instruct send directli instead first marshal wo tri forev get fingerprint continu chang file unison give certain number retri bug fix includ one report peter seling prefer work compil upgrad new ocaml compil lablgtk librari patch version use compil window ad option compil unison window platform cygwin gnu c compil option support build dynam link unison execut chang sinc fix silli debilit bug client startup sequenc chang sinc ad addprefsto prefer set control prefer file new prefer new ignor pattern ad bug fix read initi connect header one byte time block header shorter expect bug affect normal oper made hard tell tri use unison incorrectli old version server sinc would hang instead give error messag chang sinc chang fastcheck boolean string prefer legal valu ye fast check safe check default fast check also happen safe run unix safe check window default default sever prefer renam consist prefer name spell lowercas backward compat old name still work mention manual temp file creat command name prepend new prefix file name rather append suffix avoid confus program depend suffix guess type file content set keepal option server socket make sure server time commun link unexpectedli broken bug fix updat small file unison close destin file file permiss properli updat file behind follow link sever small fix chang sinc major window perform improv ad prefer fastcheck make unison look file creation time time check whether chang result huge speedup check updat larg replica switch set unison use file creation time inod number scan window replica updat instead read full content everi file may caus unison miss propag updat creat time modif time length file unchang updat easi achiev done howev unison never overwrit updat chang replica sinc alway safe check updat propag chang thu reason use switch time occasion run unison fastcheck set fals worri unison may overlook updat warn chang yet thoroughli set fastcheck prefer pay care attent unison new function central backup merg version incorpor two piec major new function implement sylvain roy summer internship penn central backup facil keep full backup select file replica merg featur allow unison invok extern tool resolv conflict chang individu file central backup unison maintain full backup version file replica function backup usual sens common version invok extern merg program back file store directori host name directori chang set environ variabl unisonbackupdir predic backup control file actual back give prefer path caus back file file ad backup directori whenev unison updat archiv mean unison reconstruct archiv scratch upgrad archiv file manual delet file back otherwis file back first time unison propag updat prefer backupvers control mani previou version file kept default last synchron version plu one backup backward compat backup prefer also still support backup prefer ok manual delet file backup directori throw away directori unison use file anyth import check fingerprint match one expect merg user interfac offer new command invok press chang file select actual merg perform extern program prefer merg control program invok backup exist file see backup prefer merg prefer use purpos otherwis use case valu prefer string repres command pass shell invok merg program within string special substr new old may appear point unison substitut follow invok command replac name local copi file replac name temporari file content remot copi file transfer unison prior perform merg new replac name temporari file unison expect written merg program finish give desir new content file old replac name back copi origin version file state end last success run unison one exist appli merg exampl unix system set merg prefer merg old new tell unison use extern program merg larg number extern merg program avail exampl emac user may find follow conveni emac eval nil new merg emac eval old nil new command display two line avoid run edg page prefer file written singl line extern program exit without leav file path new unison consid merg fail merg program write file call new exit statu code unison consid merg succeed gener conflict case attempt invok extern editor user resolv conflict valu editor prefer control editor invok unison default emac pleas send us suggest use valu merg prefer like give sever exampl manual smaller chang one prefer file includ anoth unison longer add suffix includ file default file precis given name exist directori use otherwis unison add chang mean includ prefer file name instead unison offer prefer dialog linux system offer static link dynam link execut static one larger probabl run system sinc depend version dynam link librari modul avail fix forc prefer prefer get propag direct exactli backward fix bug startup code would caus unison crash default profil exist fix bug run profil first creat unison would confusingli display root revers order user interfac develop ad modul depend diagram sourc distribut help new prospect develop navig code chang sinc incompat chang archiv format chang incompat chang startup sequenc complet rewritten greatli simplifi main chang defaultpath prefer remov effect approxim use multipl profil includ direct incorpor common set use defaultpath exist profil chang path anoth chang startup behavior affect user longer possibl specifi root profil command line achiev similar effect though break profil two root blah root foo includ common unison common want specifi root explicitli option extend allow user specifi file recent modtim propag write either newer newer symmetri unison also accept older older option use also set graphic user interfac provid access facil basi via action menu name root alias allow replica reloc without chang name archiv file unison store inform run featur expert see archiv file section manual inform graphic new command provid synchron menu switch new profil without restart unison scratch gui also support shortcut commonli use profil profil contain prefer form n n singl digit press key caus unison immedi switch profil begin synchron scratch action may select set chang current display discard profil may includ prefer give descript string describ option select profil string list along profil name profil select dialog display corner main unison window minor fix bug would sometim caus display order file backward rel main user interfac thank pascal brisset fix unix system graphic version unison check display variabl set automat fall back textual user interfac synchron path path prefer match ignor prefer path specifi path prefer ignor skip numer bugfix small improv chang sinc synchron modif time disabl directori prefer file may includ line form includ caus read point synchron permiss window unix work properli bind ad environ cygwin port openssh work properli context servercmd addversionno prefer use togeth append appropri server command found use valu prefer one els unison val allow boolean valu former use set prefer fals lot small bug fix chang sinc log prefer set true default sinc log file seem use user sever miscellan bugfix involv symlink chang sinc incompat chang archiv format chang sever signific bug introduc fix chang sinc incompat chang archiv format chang make sure synchron replica upgrad avoid spuriou conflict first sync upgrad slow new function unison synchron file modtim new featur control set new prefer current fals default time prefer set true file modif time propag represent time may granular replica unison may alway abl make modtim precis equal get close oper system involv allow owner prefer set true file ownership inform synchron group prefer set true group inform synchron numericid prefer set true owner group inform synchron numer default owner group number convert name replica name synchron special user id special group never map via name even prefer set ad prefer perm use control propag permiss bit valu prefer mask indic permiss bit synchron set default bit bit synchronis synchron these latter bit secur hazard want synchron bit set valu prefer ad log prefer default fals make unison keep complet record chang make replica default record written file call user home directori valu home environ variabl want someplac els set logfil prefer full pathnam want unison use ad ignorenot prefer maintain set pattern path definit ignor whether match ignor pattern path ignor iff match ignor pattern match ignorenot pattern improv root display user interfac order given command line prefer file batch prefer set graphic user interfac longer wait user confirm display warn messag simpli pop advisori window dismiss button bottom keep go ad new prefer control mani statu messag print updat detect statusdepth control maximum depth path local machin longer path display path valu integ default remov trace silent prefer seem use mani prefer control output variou way text ui display default command one use user type instead avail command type print full list possibl function find canon hostnam local host use exampl calcul name archiv file use rememb file synchron normal use gethostnam oper system call howev environ variabl unisonlocalhostnam set valu use instead make easier use unison situat machin name chang frequent laptop get move around lot file owner group display detail window bottom screen unison configur synchron hacker updat jacqu garrigu new version lablgtk mean throw away local patch version compil gtk version unison sourc need updat copi lablgtk develop releas avail http warn instal lablgtk window current bit challeng file sourc distribut clean reorgan list pend task much easier make sens peopl may want contribut program energi also separ file open bug tk user interfac remov maintain longer compil debug prefer print quit bit addit inform use identifi sourc problem version number remot server check right away connect setup handshak rather later somebodi sent bug report server crash turn come use inconsist version better check earlier way ca crash either client server unison run correctli architectur alpha linux distribut binari architectur least someon would like make avail glad provid link bug fix pattern match ignor unison mode one replica window machin peopl troubl mysteri failur propag updat file would fals report chang synchron fix numer smaller fix chang sinc ad number mode user interfac default conflict chang display top rest entri sort alphabet order behavior chang follow way set sortnewfirst prefer true caus newli creat file display chang file set sortbys caus file display increas order size give prefer path descriptor format pattern caus path match pattern display first similarli give prefer caus path match pattern display last sort prefer describ detail user manual sortnewfirst sortbys flag also access menu grpahic user interfac ad two new prefer use chang fundament behavior make like mirror tool instead synchron give prefer prefer argument ad command line profil mean conflict content propag replica question ask chang treat usual give prefer forc argument make unison resolv differ favor given root even replica chang option use care inform avail manual small chang chang default answer dialog graphic interfac seem intuit rsync prefer remov use activ rsync compress file transfer rsync compress enabl default text user interfac arrow indic direct chang propag print differ user overrid unison default recommend instead match behavior graphic interfac display arrow differ color carriag return ignor end line profil window compat prefer fulli document user manual chang sinc incompat chang archiv format chang make sure synchron replica upgrad avoid spuriou conflict first sync upgrad slow function new prefer control order chang display user set true smallest chang file display first default set fals new prefer caus newli creat file list updat user interfac allow ssh protocol specifi port incompat chang unison protocol deprec ad file socket may modifi profil directori replica specifi without explicit protocol assum refer file previous meant use ssh connect saul access foo directori mean access saul via remot file mechan samba old effect achiev write ssh chang startup sequenc case root given profil given command line new behavior use default profil creat exist temporarili overrid root manual claim case would work read profil afaik never true user interfac file conflict alway list first new prefer use control version ssh use connect server legal valu default empti make unison use whatev version ssh instal default command situat permiss file updat side handl correctli use report spuriou conflict improv window version fact filenam treat window handl correctli exact behavior describ section manual possibl synchron window share workaround bug sync root directori window difficult thing fix ocaml bug fail c version window improv gtk user interfac tk interfac longer maintain ui display action differ blue explicitli chang user default recommend color appear initi profil select window work better transfer fail messag effect display along complet end transfer phase case may scroll top ad global progress meter display percentag total byte transfer far improv text user interfac file detail display automat conflict detect warn gener temporari file left previou run unison unison longer wait respons run mode ui display short list possibl input time wait user interact ui quit immedi rather loop back start interact user press q ask whether propag chang press g text user interfac proceed immedi propag updat without ask question document instal chang manual includ faq plu section common problem trick contribut user download page download directori explicitli say current stabl version number ocaml sourc version guarante stabl even compil given time avail download page ad subsect manual describ issu case conflict illeg filenam mani small bug fix random improv chang sinc sever bug fix import bug rsync modul would occasion caus chang propag fail error chang sinc transport system disabl default stabl enough yet variou bug fix new experiment featur final compon argument may wildcard specifi unison see path expand path client correspond list path list content directori note use wildcard path command line probabl need use quot backslash prevent interpret shell root local content first one use expand wildcard path nb first one canon step one list first user interfac one list first command line prefer file chang sinc transport subsystem includ implement sylvain gommier norman ramsey tridgel mackerra rsync protocol protocol achiev much faster transfer small part larg file chang send diff featur mainli help transfer slow link fast local area network actual degrad perform left default start unison option put prefer file turn progress bar diplay remot file transfer show percentag file transfer far version number scheme chang new releas number like second compon increment everi signific public releas third compon patch level miscellan improv user interfac manual avail pdf format experi use transport subsystem transfer sever file time make much effect use avail network bandwidth featur complet stabl yet default disabl releas version unison want play version need recompil unison sourc describ document set thread flag true make sure ocaml compil instal configur option verifi check whether file ocaml standard librari directori contain string near end chang sinc reduc memori footprint especi import first run unison gather inform file repositori fix bug would caus socket server nt fail client exit ad shift modifi ignor menu shortcut key gtk interfac avoid hit accident chang sinc tunnel ssh support window version see instal section manual detail instruct transport subsystem includ implement rsync protocol built sylvain gommier norman ramsey protocol achiev much faster transfer small part larg file chang send diff rsync featur default current version use switch turn nb still lot tune may notic much speedup yet experi transport subsystem written jerom vouillon download binari still want tri version need recompil sourc say make nativ thread support compil requir use option n select maxim number concurr thread default interoper new user interfac avail thank jacqu garrigu tk user interfac still work shift develop effort gtk interfac ocaml requir compil unison sourc modul uitk myfileselect chang use labltk instead camltk compil tk interfac window must instal put c rather suggest c sure instal header librari instal default ad new switch caus unison use instead unison remot server command allow multipl version unison coexist conveni server whichev version run client version select server chang sinc incompat chang archiv format chang make sure synchron replica upgrad avoid spuriou conflict first sync upgrad slow version fix sever annoy bug includ case propag file permiss work umask ignor creat directori directori creat writabl directori content propag handl warn gener server synchron path whose parent directori side flag erron fix bug relat symnbol link nonexist root chang delet new content propag onto symlink file point link chang use chang link fit assert mean link complet invis one root exist propag root top use fail becuas unison could calcul work directori write chang fix timestamp ad unison archiv file semant path name regular express correspond better minor improv text ui command go back previou item organ export directori chang easier find download thing chang sinc incompat chang archiv format chang make sure synchron replica upgrad avoid spuriou conflict first sync upgrad slow version test extens window major intern chang design make unison safer run time replica chang user intern perform improv chang sinc incompat chang archiv format chang make sure synchron replica upgrad avoid spuriou conflict first sync upgrad slow number intern function chang reduc amount memori alloc especi first synchron help power user big replica reimplement remot procedur call stuff prepar ad smart file transfer later releas miscellan bug fix chang sinc incompat chang archiv format chang make sure synchron replica upgrad avoid spuriou conflict first sync upgrad slow fix small bug interpret ignor pattern fix problem prevent window version work correctli fix treatment file permiss window caus spuriou report differ permiss synchron window unix system fix one list process function caus stack overflow synchron larg replica chang sinc text user interfac provid command ignor file found fix list process function power user report success larg replica incompat chang file end longer ignor automat want ignor file put appropri ignor pattern profil incompat chang syntax ignor follow pattern chang instead put line form ignor profil put ignor regexp moreov two style pattern also recogn ignor name match path one compon match ignor path match exactli path standard glob convent use match singl charact except match sequenc charact includ xyz match charact set x z bb ccc match one bb ccc see user manual exampl chang sinc user report stack overflow synchron huge directori found fix list process function hope solv problem pleas give tri let us know major addit document chang sinc major intern tidi mani small bugfix major addit user manual unison start argument prompt automat name profil file contain root synchron make possibl start graphic ui desktop icon fix small bug text ui nt rais signal except chang sinc precompil window binari last releas compil old ocaml compil caus propag permiss work perhap lead strang behavior heard report correct use precompil binari window pleas upgrad ad command line flag control debug variou modul say xxx enabl debug trace modul xxx turn absolut everyth fix small bug text ui nt rais signal except chang sinc incompat chang name format prefer file directori chang particular file pref renam content file ignor merg line form regexp ignor becom line form ignor regexp unison handl permiss bit symbol link see manual detail differ prefer file directori start unison like unison profilenam one anonym argument file load instead improv termin handl text user interfac ad switch termin remot server process unison client shut even use socket commun default remot server creat use termin automat socket server left run start server mode unison print start stderr readi accept connect may use script want tell server finish init make nightli mirror current intern develop tree case anyon want version hack around ad file contrib suggest help us make unison better unsubscrib group send email use yahoo group subject http'"
      ]
     },
     "execution_count": 65,
     "metadata": {},
     "output_type": "execute_result"
    }
   ],
   "source": [
    "' '.join(all_cleaned_emails[pos])"
   ]
  },
  {
   "cell_type": "markdown",
   "id": "9c852270-f650-4f6c-9a9d-3d74f9e610b7",
   "metadata": {},
   "source": [
    "# Generating Features and a sparse matrix\n",
    "## Creating Dataframe with one word per column"
   ]
  },
  {
   "cell_type": "code",
   "execution_count": 66,
   "id": "0a1411c3-d270-47ef-ad01-c89b93d05121",
   "metadata": {},
   "outputs": [
    {
     "data": {
      "text/html": [
       "<div>\n",
       "<style scoped>\n",
       "    .dataframe tbody tr th:only-of-type {\n",
       "        vertical-align: middle;\n",
       "    }\n",
       "\n",
       "    .dataframe tbody tr th {\n",
       "        vertical-align: top;\n",
       "    }\n",
       "\n",
       "    .dataframe thead th {\n",
       "        text-align: right;\n",
       "    }\n",
       "</style>\n",
       "<table border=\"1\" class=\"dataframe\">\n",
       "  <thead>\n",
       "    <tr style=\"text-align: right;\">\n",
       "      <th></th>\n",
       "      <th>0</th>\n",
       "      <th>1</th>\n",
       "      <th>2</th>\n",
       "      <th>3</th>\n",
       "      <th>4</th>\n",
       "      <th>5</th>\n",
       "      <th>6</th>\n",
       "      <th>7</th>\n",
       "      <th>8</th>\n",
       "      <th>9</th>\n",
       "      <th>...</th>\n",
       "      <th>7661</th>\n",
       "      <th>7662</th>\n",
       "      <th>7663</th>\n",
       "      <th>7664</th>\n",
       "      <th>7665</th>\n",
       "      <th>7666</th>\n",
       "      <th>7667</th>\n",
       "      <th>7668</th>\n",
       "      <th>7669</th>\n",
       "      <th>7670</th>\n",
       "    </tr>\n",
       "  </thead>\n",
       "  <tbody>\n",
       "    <tr>\n",
       "      <th>0</th>\n",
       "      <td>save</td>\n",
       "      <td>life</td>\n",
       "      <td>insur</td>\n",
       "      <td>spend</td>\n",
       "      <td>life</td>\n",
       "      <td>quot</td>\n",
       "      <td>save</td>\n",
       "      <td>g</td>\n",
       "      <td>famili</td>\n",
       "      <td>financi</td>\n",
       "      <td>...</td>\n",
       "      <td>None</td>\n",
       "      <td>None</td>\n",
       "      <td>None</td>\n",
       "      <td>None</td>\n",
       "      <td>None</td>\n",
       "      <td>None</td>\n",
       "      <td>None</td>\n",
       "      <td>None</td>\n",
       "      <td>None</td>\n",
       "      <td>None</td>\n",
       "    </tr>\n",
       "    <tr>\n",
       "      <th>1</th>\n",
       "      <td>fight</td>\n",
       "      <td>risk</td>\n",
       "      <td>cancer</td>\n",
       "      <td>http</td>\n",
       "      <td>slim</td>\n",
       "      <td>guarante</td>\n",
       "      <td>lose</td>\n",
       "      <td>lb</td>\n",
       "      <td>day</td>\n",
       "      <td>http</td>\n",
       "      <td>...</td>\n",
       "      <td>None</td>\n",
       "      <td>None</td>\n",
       "      <td>None</td>\n",
       "      <td>None</td>\n",
       "      <td>None</td>\n",
       "      <td>None</td>\n",
       "      <td>None</td>\n",
       "      <td>None</td>\n",
       "      <td>None</td>\n",
       "      <td>None</td>\n",
       "    </tr>\n",
       "    <tr>\n",
       "      <th>2</th>\n",
       "      <td>fight</td>\n",
       "      <td>risk</td>\n",
       "      <td>cancer</td>\n",
       "      <td>http</td>\n",
       "      <td>slim</td>\n",
       "      <td>guarante</td>\n",
       "      <td>lose</td>\n",
       "      <td>lb</td>\n",
       "      <td>day</td>\n",
       "      <td>http</td>\n",
       "      <td>...</td>\n",
       "      <td>None</td>\n",
       "      <td>None</td>\n",
       "      <td>None</td>\n",
       "      <td>None</td>\n",
       "      <td>None</td>\n",
       "      <td>None</td>\n",
       "      <td>None</td>\n",
       "      <td>None</td>\n",
       "      <td>None</td>\n",
       "      <td>None</td>\n",
       "    </tr>\n",
       "    <tr>\n",
       "      <th>3</th>\n",
       "      <td>adult</td>\n",
       "      <td>club</td>\n",
       "      <td>offer</td>\n",
       "      <td>free</td>\n",
       "      <td>membership</td>\n",
       "      <td>instant</td>\n",
       "      <td>access</td>\n",
       "      <td>site</td>\n",
       "      <td>user</td>\n",
       "      <td>name</td>\n",
       "      <td>...</td>\n",
       "      <td>None</td>\n",
       "      <td>None</td>\n",
       "      <td>None</td>\n",
       "      <td>None</td>\n",
       "      <td>None</td>\n",
       "      <td>None</td>\n",
       "      <td>None</td>\n",
       "      <td>None</td>\n",
       "      <td>None</td>\n",
       "      <td>None</td>\n",
       "    </tr>\n",
       "    <tr>\n",
       "      <th>4</th>\n",
       "      <td>thought</td>\n",
       "      <td>might</td>\n",
       "      <td>like</td>\n",
       "      <td>slim</td>\n",
       "      <td>guarante</td>\n",
       "      <td>lose</td>\n",
       "      <td>lb</td>\n",
       "      <td>day</td>\n",
       "      <td>http</td>\n",
       "      <td>fight</td>\n",
       "      <td>...</td>\n",
       "      <td>None</td>\n",
       "      <td>None</td>\n",
       "      <td>None</td>\n",
       "      <td>None</td>\n",
       "      <td>None</td>\n",
       "      <td>None</td>\n",
       "      <td>None</td>\n",
       "      <td>None</td>\n",
       "      <td>None</td>\n",
       "      <td>None</td>\n",
       "    </tr>\n",
       "  </tbody>\n",
       "</table>\n",
       "<p>5 rows × 7671 columns</p>\n",
       "</div>"
      ],
      "text/plain": [
       "      0      1       2      3           4         5       6     7       8     \\\n",
       "0     save   life   insur  spend        life      quot    save     g  famili   \n",
       "1    fight   risk  cancer   http        slim  guarante    lose    lb     day   \n",
       "2    fight   risk  cancer   http        slim  guarante    lose    lb     day   \n",
       "3    adult   club   offer   free  membership   instant  access  site    user   \n",
       "4  thought  might    like   slim    guarante      lose      lb   day    http   \n",
       "\n",
       "      9     ...  7661  7662  7663  7664  7665  7666  7667  7668  7669  7670  \n",
       "0  financi  ...  None  None  None  None  None  None  None  None  None  None  \n",
       "1     http  ...  None  None  None  None  None  None  None  None  None  None  \n",
       "2     http  ...  None  None  None  None  None  None  None  None  None  None  \n",
       "3     name  ...  None  None  None  None  None  None  None  None  None  None  \n",
       "4    fight  ...  None  None  None  None  None  None  None  None  None  None  \n",
       "\n",
       "[5 rows x 7671 columns]"
      ]
     },
     "execution_count": 66,
     "metadata": {},
     "output_type": "execute_result"
    }
   ],
   "source": [
    "words_column_df = pd.DataFrame.from_records(list(all_cleaned_emails))\n",
    "words_column_df.head()"
   ]
  },
  {
   "cell_type": "code",
   "execution_count": 67,
   "id": "dddd9aed-a85a-4183-b0e8-59d0b630be40",
   "metadata": {},
   "outputs": [],
   "source": [
    "X_train, X_test,y_train, y_test = train_test_split(words_column_df, dataset.CATEGORY, test_size=0.3, random_state=42)"
   ]
  },
  {
   "cell_type": "code",
   "execution_count": 68,
   "id": "00dc7ec9-f8d8-46e1-b5a7-5e01ce0f8918",
   "metadata": {},
   "outputs": [
    {
     "data": {
      "text/html": [
       "<div>\n",
       "<style scoped>\n",
       "    .dataframe tbody tr th:only-of-type {\n",
       "        vertical-align: middle;\n",
       "    }\n",
       "\n",
       "    .dataframe tbody tr th {\n",
       "        vertical-align: top;\n",
       "    }\n",
       "\n",
       "    .dataframe thead th {\n",
       "        text-align: right;\n",
       "    }\n",
       "</style>\n",
       "<table border=\"1\" class=\"dataframe\">\n",
       "  <thead>\n",
       "    <tr style=\"text-align: right;\">\n",
       "      <th></th>\n",
       "      <th>0</th>\n",
       "      <th>1</th>\n",
       "      <th>2</th>\n",
       "      <th>3</th>\n",
       "      <th>4</th>\n",
       "      <th>5</th>\n",
       "      <th>6</th>\n",
       "      <th>7</th>\n",
       "      <th>8</th>\n",
       "      <th>9</th>\n",
       "      <th>...</th>\n",
       "      <th>7661</th>\n",
       "      <th>7662</th>\n",
       "      <th>7663</th>\n",
       "      <th>7664</th>\n",
       "      <th>7665</th>\n",
       "      <th>7666</th>\n",
       "      <th>7667</th>\n",
       "      <th>7668</th>\n",
       "      <th>7669</th>\n",
       "      <th>7670</th>\n",
       "    </tr>\n",
       "    <tr>\n",
       "      <th>DOC_ID</th>\n",
       "      <th></th>\n",
       "      <th></th>\n",
       "      <th></th>\n",
       "      <th></th>\n",
       "      <th></th>\n",
       "      <th></th>\n",
       "      <th></th>\n",
       "      <th></th>\n",
       "      <th></th>\n",
       "      <th></th>\n",
       "      <th></th>\n",
       "      <th></th>\n",
       "      <th></th>\n",
       "      <th></th>\n",
       "      <th></th>\n",
       "      <th></th>\n",
       "      <th></th>\n",
       "      <th></th>\n",
       "      <th></th>\n",
       "      <th></th>\n",
       "      <th></th>\n",
       "    </tr>\n",
       "  </thead>\n",
       "  <tbody>\n",
       "    <tr>\n",
       "      <th>4844</th>\n",
       "      <td>ye</td>\n",
       "      <td>inde</td>\n",
       "      <td>agent</td>\n",
       "      <td>directori</td>\n",
       "      <td>verita</td>\n",
       "      <td>cd</td>\n",
       "      <td>unix</td>\n",
       "      <td>subdirectori</td>\n",
       "      <td>file</td>\n",
       "      <td>call</td>\n",
       "      <td>...</td>\n",
       "      <td>None</td>\n",
       "      <td>None</td>\n",
       "      <td>None</td>\n",
       "      <td>None</td>\n",
       "      <td>None</td>\n",
       "      <td>None</td>\n",
       "      <td>None</td>\n",
       "      <td>None</td>\n",
       "      <td>None</td>\n",
       "      <td>None</td>\n",
       "    </tr>\n",
       "    <tr>\n",
       "      <th>4727</th>\n",
       "      <td>problem</td>\n",
       "      <td>come</td>\n",
       "      <td>tri</td>\n",
       "      <td>instal</td>\n",
       "      <td>harddissssk</td>\n",
       "      <td>like</td>\n",
       "      <td>alreadi</td>\n",
       "      <td>mount</td>\n",
       "      <td>http</td>\n",
       "      <td>yahoo</td>\n",
       "      <td>...</td>\n",
       "      <td>None</td>\n",
       "      <td>None</td>\n",
       "      <td>None</td>\n",
       "      <td>None</td>\n",
       "      <td>None</td>\n",
       "      <td>None</td>\n",
       "      <td>None</td>\n",
       "      <td>None</td>\n",
       "      <td>None</td>\n",
       "      <td>None</td>\n",
       "    </tr>\n",
       "    <tr>\n",
       "      <th>5022</th>\n",
       "      <td>origin</td>\n",
       "      <td>messag</td>\n",
       "      <td>date</td>\n",
       "      <td>mon</td>\n",
       "      <td>aug</td>\n",
       "      <td>chad</td>\n",
       "      <td>norwood</td>\n",
       "      <td>sven</td>\n",
       "      <td>cc</td>\n",
       "      <td>subject</td>\n",
       "      <td>...</td>\n",
       "      <td>None</td>\n",
       "      <td>None</td>\n",
       "      <td>None</td>\n",
       "      <td>None</td>\n",
       "      <td>None</td>\n",
       "      <td>None</td>\n",
       "      <td>None</td>\n",
       "      <td>None</td>\n",
       "      <td>None</td>\n",
       "      <td>None</td>\n",
       "    </tr>\n",
       "    <tr>\n",
       "      <th>3504</th>\n",
       "      <td>inlin</td>\n",
       "      <td>folk</td>\n",
       "      <td>sever</td>\n",
       "      <td>major</td>\n",
       "      <td>internet</td>\n",
       "      <td>outag</td>\n",
       "      <td>morn</td>\n",
       "      <td>across</td>\n",
       "      <td>major</td>\n",
       "      <td>provid</td>\n",
       "      <td>...</td>\n",
       "      <td>None</td>\n",
       "      <td>None</td>\n",
       "      <td>None</td>\n",
       "      <td>None</td>\n",
       "      <td>None</td>\n",
       "      <td>None</td>\n",
       "      <td>None</td>\n",
       "      <td>None</td>\n",
       "      <td>None</td>\n",
       "      <td>None</td>\n",
       "    </tr>\n",
       "    <tr>\n",
       "      <th>3921</th>\n",
       "      <td>url</td>\n",
       "      <td>http</td>\n",
       "      <td>date</td>\n",
       "      <td>bath</td>\n",
       "      <td>chronicl</td>\n",
       "      <td>None</td>\n",
       "      <td>None</td>\n",
       "      <td>None</td>\n",
       "      <td>None</td>\n",
       "      <td>None</td>\n",
       "      <td>...</td>\n",
       "      <td>None</td>\n",
       "      <td>None</td>\n",
       "      <td>None</td>\n",
       "      <td>None</td>\n",
       "      <td>None</td>\n",
       "      <td>None</td>\n",
       "      <td>None</td>\n",
       "      <td>None</td>\n",
       "      <td>None</td>\n",
       "      <td>None</td>\n",
       "    </tr>\n",
       "  </tbody>\n",
       "</table>\n",
       "<p>5 rows × 7671 columns</p>\n",
       "</div>"
      ],
      "text/plain": [
       "           0       1      2          3            4      5        6     \\\n",
       "DOC_ID                                                                   \n",
       "4844         ye    inde  agent  directori       verita     cd     unix   \n",
       "4727    problem    come    tri     instal  harddissssk   like  alreadi   \n",
       "5022     origin  messag   date        mon          aug   chad  norwood   \n",
       "3504      inlin    folk  sever      major     internet  outag     morn   \n",
       "3921        url    http   date       bath     chronicl   None     None   \n",
       "\n",
       "                7      8        9     ...  7661  7662  7663  7664  7665  7666  \\\n",
       "DOC_ID                                ...                                       \n",
       "4844    subdirectori   file     call  ...  None  None  None  None  None  None   \n",
       "4727           mount   http    yahoo  ...  None  None  None  None  None  None   \n",
       "5022            sven     cc  subject  ...  None  None  None  None  None  None   \n",
       "3504          across  major   provid  ...  None  None  None  None  None  None   \n",
       "3921            None   None     None  ...  None  None  None  None  None  None   \n",
       "\n",
       "        7667  7668  7669  7670  \n",
       "DOC_ID                          \n",
       "4844    None  None  None  None  \n",
       "4727    None  None  None  None  \n",
       "5022    None  None  None  None  \n",
       "3504    None  None  None  None  \n",
       "3921    None  None  None  None  \n",
       "\n",
       "[5 rows x 7671 columns]"
      ]
     },
     "execution_count": 68,
     "metadata": {},
     "output_type": "execute_result"
    }
   ],
   "source": [
    "X_test.index.name = X_train.index.name = 'DOC_ID'\n",
    "X_train.head()"
   ]
  },
  {
   "cell_type": "code",
   "execution_count": 69,
   "id": "62d2be90-91f5-4756-850b-3a7ec22566d2",
   "metadata": {},
   "outputs": [
    {
     "data": {
      "text/plain": [
       "DOC_ID\n",
       "4844    0\n",
       "4727    0\n",
       "5022    0\n",
       "3504    0\n",
       "3921    0\n",
       "Name: CATEGORY, dtype: int64"
      ]
     },
     "execution_count": 69,
     "metadata": {},
     "output_type": "execute_result"
    }
   ],
   "source": [
    "y_train.head()"
   ]
  },
  {
   "cell_type": "markdown",
   "id": "dba0d3bd-d633-47cb-a758-5d2a6e70428a",
   "metadata": {},
   "source": [
    "## Creating a Sparse Matrix for Training Data"
   ]
  },
  {
   "cell_type": "code",
   "execution_count": 70,
   "id": "0d18b8a5-cd3f-4c5b-9308-df59202a738a",
   "metadata": {},
   "outputs": [
    {
     "data": {
      "text/plain": [
       "Index(['http', 'use', 'list', 'email', 'get', 'mail', 'one', 'free', 'time',\n",
       "       'work',\n",
       "       ...\n",
       "       'asian', 'bond', 'till', 'mutual', 'virginia', 'inch', 'filesystem',\n",
       "       'fiction', 'khare', 'presenc'],\n",
       "      dtype='object', name='VOCAB_WORD', length=2500)"
      ]
     },
     "execution_count": 70,
     "metadata": {},
     "output_type": "execute_result"
    }
   ],
   "source": [
    "word_index = pd.Index(vocabulary.VOCAB_WORD)\n",
    "word_index"
   ]
  },
  {
   "cell_type": "code",
   "execution_count": 71,
   "id": "3fd06396-c80d-4420-9ce7-ce2b4bb9d9e5",
   "metadata": {},
   "outputs": [
    {
     "data": {
      "text/plain": [
       "2"
      ]
     },
     "execution_count": 71,
     "metadata": {},
     "output_type": "execute_result"
    }
   ],
   "source": [
    "word_index.get_loc('list')"
   ]
  },
  {
   "cell_type": "code",
   "execution_count": 72,
   "id": "2887d87b-767f-4b5d-87f1-fd4e46c110f7",
   "metadata": {},
   "outputs": [],
   "source": [
    "def sparse_matrix(df, index_words, labels):\n",
    "    \"\"\"\n",
    "    Retuns sparse matrix ad a Dataframe.\n",
    "    \n",
    "    df: Dataframe of words with document id as index (X_train or X_test).\n",
    "    index_words: Index of words ordered with word id.\n",
    "    labels: Category as a series (y_train or y_test)\n",
    "    \"\"\"\n",
    "    no_rows = df.shape[0]\n",
    "    no_colmns = df.shape[1]\n",
    "    \n",
    "    words_set = set(index_words)\n",
    "    dict_list = []\n",
    "    \n",
    "    for i in range(no_rows):\n",
    "        for j in range(no_colmns):\n",
    "            word = df.iat[i, j]\n",
    "            if word in words_set:\n",
    "                doc_id = df.index[i]\n",
    "                category = labels.at[doc_id]\n",
    "                word_id = index_words.get_loc(word)\n",
    "                \n",
    "                item = {'CATEGORY': category, 'DOC_ID': doc_id, 'WORD_ID': word_id, 'OCCURENCE': 1}\n",
    "                dict_list.append(item)\n",
    "    \n",
    "    return pd.DataFrame(dict_list)\n",
    "    \n",
    "                    \n",
    "    "
   ]
  },
  {
   "cell_type": "code",
   "execution_count": 73,
   "id": "7a029d9d-e228-4c78-b8fd-b743087bdd4d",
   "metadata": {},
   "outputs": [
    {
     "name": "stdout",
     "output_type": "stream",
     "text": [
      "Wall time: 8min 11s\n"
     ]
    }
   ],
   "source": [
    "%%time\n",
    "\n",
    "sparse_train_df = sparse_matrix(X_train, word_index, y_train)"
   ]
  },
  {
   "cell_type": "code",
   "execution_count": 74,
   "id": "aad9f486-f58d-4f4a-bfb1-a0962414da26",
   "metadata": {},
   "outputs": [
    {
     "data": {
      "text/html": [
       "<div>\n",
       "<style scoped>\n",
       "    .dataframe tbody tr th:only-of-type {\n",
       "        vertical-align: middle;\n",
       "    }\n",
       "\n",
       "    .dataframe tbody tr th {\n",
       "        vertical-align: top;\n",
       "    }\n",
       "\n",
       "    .dataframe thead th {\n",
       "        text-align: right;\n",
       "    }\n",
       "</style>\n",
       "<table border=\"1\" class=\"dataframe\">\n",
       "  <thead>\n",
       "    <tr style=\"text-align: right;\">\n",
       "      <th></th>\n",
       "      <th>CATEGORY</th>\n",
       "      <th>DOC_ID</th>\n",
       "      <th>WORD_ID</th>\n",
       "      <th>OCCURENCE</th>\n",
       "    </tr>\n",
       "  </thead>\n",
       "  <tbody>\n",
       "    <tr>\n",
       "      <th>0</th>\n",
       "      <td>0</td>\n",
       "      <td>4844</td>\n",
       "      <td>268</td>\n",
       "      <td>1</td>\n",
       "    </tr>\n",
       "    <tr>\n",
       "      <th>1</th>\n",
       "      <td>0</td>\n",
       "      <td>4844</td>\n",
       "      <td>1242</td>\n",
       "      <td>1</td>\n",
       "    </tr>\n",
       "    <tr>\n",
       "      <th>2</th>\n",
       "      <td>0</td>\n",
       "      <td>4844</td>\n",
       "      <td>504</td>\n",
       "      <td>1</td>\n",
       "    </tr>\n",
       "    <tr>\n",
       "      <th>3</th>\n",
       "      <td>0</td>\n",
       "      <td>4844</td>\n",
       "      <td>308</td>\n",
       "      <td>1</td>\n",
       "    </tr>\n",
       "    <tr>\n",
       "      <th>4</th>\n",
       "      <td>0</td>\n",
       "      <td>4844</td>\n",
       "      <td>253</td>\n",
       "      <td>1</td>\n",
       "    </tr>\n",
       "  </tbody>\n",
       "</table>\n",
       "</div>"
      ],
      "text/plain": [
       "   CATEGORY  DOC_ID  WORD_ID  OCCURENCE\n",
       "0         0    4844      268          1\n",
       "1         0    4844     1242          1\n",
       "2         0    4844      504          1\n",
       "3         0    4844      308          1\n",
       "4         0    4844      253          1"
      ]
     },
     "execution_count": 74,
     "metadata": {},
     "output_type": "execute_result"
    }
   ],
   "source": [
    "sparse_train_df.head()"
   ]
  },
  {
   "cell_type": "code",
   "execution_count": 75,
   "id": "59c63634-7402-41e7-bc7e-6fd7aa834710",
   "metadata": {},
   "outputs": [
    {
     "data": {
      "text/html": [
       "<div>\n",
       "<style scoped>\n",
       "    .dataframe tbody tr th:only-of-type {\n",
       "        vertical-align: middle;\n",
       "    }\n",
       "\n",
       "    .dataframe tbody tr th {\n",
       "        vertical-align: top;\n",
       "    }\n",
       "\n",
       "    .dataframe thead th {\n",
       "        text-align: right;\n",
       "    }\n",
       "</style>\n",
       "<table border=\"1\" class=\"dataframe\">\n",
       "  <thead>\n",
       "    <tr style=\"text-align: right;\">\n",
       "      <th></th>\n",
       "      <th></th>\n",
       "      <th></th>\n",
       "      <th>OCCURENCE</th>\n",
       "    </tr>\n",
       "    <tr>\n",
       "      <th>DOC_ID</th>\n",
       "      <th>WORD_ID</th>\n",
       "      <th>CATEGORY</th>\n",
       "      <th></th>\n",
       "    </tr>\n",
       "  </thead>\n",
       "  <tbody>\n",
       "    <tr>\n",
       "      <th rowspan=\"5\" valign=\"top\">0</th>\n",
       "      <th>2</th>\n",
       "      <th>1</th>\n",
       "      <td>1</td>\n",
       "    </tr>\n",
       "    <tr>\n",
       "      <th>3</th>\n",
       "      <th>1</th>\n",
       "      <td>1</td>\n",
       "    </tr>\n",
       "    <tr>\n",
       "      <th>4</th>\n",
       "      <th>1</th>\n",
       "      <td>1</td>\n",
       "    </tr>\n",
       "    <tr>\n",
       "      <th>7</th>\n",
       "      <th>1</th>\n",
       "      <td>3</td>\n",
       "    </tr>\n",
       "    <tr>\n",
       "      <th>11</th>\n",
       "      <th>1</th>\n",
       "      <td>1</td>\n",
       "    </tr>\n",
       "  </tbody>\n",
       "</table>\n",
       "</div>"
      ],
      "text/plain": [
       "                         OCCURENCE\n",
       "DOC_ID WORD_ID CATEGORY           \n",
       "0      2       1                 1\n",
       "       3       1                 1\n",
       "       4       1                 1\n",
       "       7       1                 3\n",
       "       11      1                 1"
      ]
     },
     "execution_count": 75,
     "metadata": {},
     "output_type": "execute_result"
    }
   ],
   "source": [
    "train_grouped = sparse_train_df.groupby(['DOC_ID', 'WORD_ID', 'CATEGORY']).sum()\n",
    "train_grouped.head()"
   ]
  },
  {
   "cell_type": "code",
   "execution_count": 76,
   "id": "386edacb-ef67-40cc-90f4-320787af74d3",
   "metadata": {},
   "outputs": [
    {
     "data": {
      "text/html": [
       "<div>\n",
       "<style scoped>\n",
       "    .dataframe tbody tr th:only-of-type {\n",
       "        vertical-align: middle;\n",
       "    }\n",
       "\n",
       "    .dataframe tbody tr th {\n",
       "        vertical-align: top;\n",
       "    }\n",
       "\n",
       "    .dataframe thead th {\n",
       "        text-align: right;\n",
       "    }\n",
       "</style>\n",
       "<table border=\"1\" class=\"dataframe\">\n",
       "  <thead>\n",
       "    <tr style=\"text-align: right;\">\n",
       "      <th></th>\n",
       "      <th>DOC_ID</th>\n",
       "      <th>WORD_ID</th>\n",
       "      <th>CATEGORY</th>\n",
       "      <th>OCCURENCE</th>\n",
       "    </tr>\n",
       "  </thead>\n",
       "  <tbody>\n",
       "    <tr>\n",
       "      <th>0</th>\n",
       "      <td>0</td>\n",
       "      <td>2</td>\n",
       "      <td>1</td>\n",
       "      <td>1</td>\n",
       "    </tr>\n",
       "    <tr>\n",
       "      <th>1</th>\n",
       "      <td>0</td>\n",
       "      <td>3</td>\n",
       "      <td>1</td>\n",
       "      <td>1</td>\n",
       "    </tr>\n",
       "    <tr>\n",
       "      <th>2</th>\n",
       "      <td>0</td>\n",
       "      <td>4</td>\n",
       "      <td>1</td>\n",
       "      <td>1</td>\n",
       "    </tr>\n",
       "    <tr>\n",
       "      <th>3</th>\n",
       "      <td>0</td>\n",
       "      <td>7</td>\n",
       "      <td>1</td>\n",
       "      <td>3</td>\n",
       "    </tr>\n",
       "    <tr>\n",
       "      <th>4</th>\n",
       "      <td>0</td>\n",
       "      <td>11</td>\n",
       "      <td>1</td>\n",
       "      <td>1</td>\n",
       "    </tr>\n",
       "  </tbody>\n",
       "</table>\n",
       "</div>"
      ],
      "text/plain": [
       "   DOC_ID  WORD_ID  CATEGORY  OCCURENCE\n",
       "0       0        2         1          1\n",
       "1       0        3         1          1\n",
       "2       0        4         1          1\n",
       "3       0        7         1          3\n",
       "4       0       11         1          1"
      ]
     },
     "execution_count": 76,
     "metadata": {},
     "output_type": "execute_result"
    }
   ],
   "source": [
    "train_grouped = train_grouped.reset_index()\n",
    "train_grouped.head()"
   ]
  },
  {
   "cell_type": "code",
   "execution_count": 77,
   "id": "b32df398-c57f-45d4-bdaf-a952078f927c",
   "metadata": {},
   "outputs": [
    {
     "name": "stdout",
     "output_type": "stream",
     "text": [
      "Wall time: 3min 34s\n"
     ]
    }
   ],
   "source": [
    "%%time\n",
    "\n",
    "sparse_test_df = sparse_matrix(X_test, word_index, y_test)"
   ]
  },
  {
   "cell_type": "code",
   "execution_count": 78,
   "id": "f83587db-799f-4ab2-8cf9-d44d8ff736a3",
   "metadata": {},
   "outputs": [
    {
     "data": {
      "text/html": [
       "<div>\n",
       "<style scoped>\n",
       "    .dataframe tbody tr th:only-of-type {\n",
       "        vertical-align: middle;\n",
       "    }\n",
       "\n",
       "    .dataframe tbody tr th {\n",
       "        vertical-align: top;\n",
       "    }\n",
       "\n",
       "    .dataframe thead th {\n",
       "        text-align: right;\n",
       "    }\n",
       "</style>\n",
       "<table border=\"1\" class=\"dataframe\">\n",
       "  <thead>\n",
       "    <tr style=\"text-align: right;\">\n",
       "      <th></th>\n",
       "      <th></th>\n",
       "      <th></th>\n",
       "      <th>OCCURENCE</th>\n",
       "    </tr>\n",
       "    <tr>\n",
       "      <th>DOC_ID</th>\n",
       "      <th>WORD_ID</th>\n",
       "      <th>CATEGORY</th>\n",
       "      <th></th>\n",
       "    </tr>\n",
       "  </thead>\n",
       "  <tbody>\n",
       "    <tr>\n",
       "      <th rowspan=\"5\" valign=\"top\">8</th>\n",
       "      <th>2</th>\n",
       "      <th>1</th>\n",
       "      <td>1</td>\n",
       "    </tr>\n",
       "    <tr>\n",
       "      <th>3</th>\n",
       "      <th>1</th>\n",
       "      <td>4</td>\n",
       "    </tr>\n",
       "    <tr>\n",
       "      <th>4</th>\n",
       "      <th>1</th>\n",
       "      <td>2</td>\n",
       "    </tr>\n",
       "    <tr>\n",
       "      <th>5</th>\n",
       "      <th>1</th>\n",
       "      <td>1</td>\n",
       "    </tr>\n",
       "    <tr>\n",
       "      <th>6</th>\n",
       "      <th>1</th>\n",
       "      <td>2</td>\n",
       "    </tr>\n",
       "  </tbody>\n",
       "</table>\n",
       "</div>"
      ],
      "text/plain": [
       "                         OCCURENCE\n",
       "DOC_ID WORD_ID CATEGORY           \n",
       "8      2       1                 1\n",
       "       3       1                 4\n",
       "       4       1                 2\n",
       "       5       1                 1\n",
       "       6       1                 2"
      ]
     },
     "execution_count": 78,
     "metadata": {},
     "output_type": "execute_result"
    }
   ],
   "source": [
    "test_grouped = sparse_test_df.groupby(['DOC_ID', 'WORD_ID', 'CATEGORY']).sum()\n",
    "test_grouped.head()"
   ]
  },
  {
   "cell_type": "code",
   "execution_count": 79,
   "id": "6fe8fd70-d34b-4c8e-af77-3bff5b8944cc",
   "metadata": {},
   "outputs": [
    {
     "data": {
      "text/html": [
       "<div>\n",
       "<style scoped>\n",
       "    .dataframe tbody tr th:only-of-type {\n",
       "        vertical-align: middle;\n",
       "    }\n",
       "\n",
       "    .dataframe tbody tr th {\n",
       "        vertical-align: top;\n",
       "    }\n",
       "\n",
       "    .dataframe thead th {\n",
       "        text-align: right;\n",
       "    }\n",
       "</style>\n",
       "<table border=\"1\" class=\"dataframe\">\n",
       "  <thead>\n",
       "    <tr style=\"text-align: right;\">\n",
       "      <th></th>\n",
       "      <th>DOC_ID</th>\n",
       "      <th>WORD_ID</th>\n",
       "      <th>CATEGORY</th>\n",
       "      <th>OCCURENCE</th>\n",
       "    </tr>\n",
       "  </thead>\n",
       "  <tbody>\n",
       "    <tr>\n",
       "      <th>0</th>\n",
       "      <td>8</td>\n",
       "      <td>2</td>\n",
       "      <td>1</td>\n",
       "      <td>1</td>\n",
       "    </tr>\n",
       "    <tr>\n",
       "      <th>1</th>\n",
       "      <td>8</td>\n",
       "      <td>3</td>\n",
       "      <td>1</td>\n",
       "      <td>4</td>\n",
       "    </tr>\n",
       "    <tr>\n",
       "      <th>2</th>\n",
       "      <td>8</td>\n",
       "      <td>4</td>\n",
       "      <td>1</td>\n",
       "      <td>2</td>\n",
       "    </tr>\n",
       "    <tr>\n",
       "      <th>3</th>\n",
       "      <td>8</td>\n",
       "      <td>5</td>\n",
       "      <td>1</td>\n",
       "      <td>1</td>\n",
       "    </tr>\n",
       "    <tr>\n",
       "      <th>4</th>\n",
       "      <td>8</td>\n",
       "      <td>6</td>\n",
       "      <td>1</td>\n",
       "      <td>2</td>\n",
       "    </tr>\n",
       "  </tbody>\n",
       "</table>\n",
       "</div>"
      ],
      "text/plain": [
       "   DOC_ID  WORD_ID  CATEGORY  OCCURENCE\n",
       "0       8        2         1          1\n",
       "1       8        3         1          4\n",
       "2       8        4         1          2\n",
       "3       8        5         1          1\n",
       "4       8        6         1          2"
      ]
     },
     "execution_count": 79,
     "metadata": {},
     "output_type": "execute_result"
    }
   ],
   "source": [
    "test_grouped = test_grouped.reset_index()\n",
    "test_grouped.head()"
   ]
  },
  {
   "cell_type": "markdown",
   "id": "1c1f7b1d-60d3-4e5c-a30a-5110d63d4f53",
   "metadata": {},
   "source": [
    "## Saving train data and test data as txt file"
   ]
  },
  {
   "cell_type": "code",
   "execution_count": 80,
   "id": "f4fba888-bb73-46f2-a750-37210d15bda0",
   "metadata": {},
   "outputs": [
    {
     "data": {
      "text/plain": [
       "Index(['DOC_ID', 'WORD_ID', 'CATEGORY', 'OCCURENCE'], dtype='object')"
      ]
     },
     "execution_count": 80,
     "metadata": {},
     "output_type": "execute_result"
    }
   ],
   "source": [
    "np.savetxt(TRAIN_DATA_FILE, train_grouped, fmt='%d')\n",
    "train_grouped.columns"
   ]
  },
  {
   "cell_type": "code",
   "execution_count": 81,
   "id": "7a4a5bce-94df-4217-84cf-99fd3bc93260",
   "metadata": {},
   "outputs": [],
   "source": [
    "np.savetxt(TEST_DATA_FILE, test_grouped, fmt='%d')"
   ]
  },
  {
   "cell_type": "markdown",
   "id": "69651d8a-9f17-4b11-9b53-083bffb73d16",
   "metadata": {},
   "source": [
    "# #######################-END-##################"
   ]
  }
 ],
 "metadata": {
  "kernelspec": {
   "display_name": "Python 3 (ipykernel)",
   "language": "python",
   "name": "python3"
  },
  "language_info": {
   "codemirror_mode": {
    "name": "ipython",
    "version": 3
   },
   "file_extension": ".py",
   "mimetype": "text/x-python",
   "name": "python",
   "nbconvert_exporter": "python",
   "pygments_lexer": "ipython3",
   "version": "3.10.12"
  },
  "toc-autonumbering": true,
  "toc-showcode": false,
  "toc-showmarkdowntxt": false
 },
 "nbformat": 4,
 "nbformat_minor": 5
}
